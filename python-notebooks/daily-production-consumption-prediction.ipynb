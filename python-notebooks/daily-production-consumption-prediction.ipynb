{
 "cells": [
  {
   "cell_type": "markdown",
   "metadata": {},
   "source": [
    "# Solar Cell Daily Production & Consumption Model"
   ]
  },
  {
   "cell_type": "markdown",
   "metadata": {},
   "source": [
    "# Imports"
   ]
  },
  {
   "cell_type": "code",
   "execution_count": 104,
   "metadata": {},
   "outputs": [],
   "source": [
    "import pandas as pd\n",
    "import numpy as np\n",
    "import matplotlib.pyplot as plt\n",
    "import seaborn as sns\n",
    "\n",
    "from sklearn.linear_model import LinearRegression, RidgeCV, LassoCV\n",
    "from sklearn.model_selection import train_test_split, cross_val_score\n",
    "from sklearn.preprocessing import StandardScaler, StandardScaler\n"
   ]
  },
  {
   "cell_type": "markdown",
   "metadata": {},
   "source": [
    "# Read & Cleaning Data "
   ]
  },
  {
   "cell_type": "code",
   "execution_count": 3,
   "metadata": {},
   "outputs": [],
   "source": [
    "pd.options.display.max_columns=50"
   ]
  },
  {
   "cell_type": "code",
   "execution_count": 4,
   "metadata": {},
   "outputs": [],
   "source": [
    "df = pd.read_csv('./dataset/solar-production-vs-weather-final.csv')\n",
    "solar_daily = pd.read_csv('./dataset/solar-production-consumption.csv')"
   ]
  },
  {
   "cell_type": "code",
   "execution_count": 5,
   "metadata": {},
   "outputs": [
    {
     "data": {
      "text/html": [
       "<div>\n",
       "<style scoped>\n",
       "    .dataframe tbody tr th:only-of-type {\n",
       "        vertical-align: middle;\n",
       "    }\n",
       "\n",
       "    .dataframe tbody tr th {\n",
       "        vertical-align: top;\n",
       "    }\n",
       "\n",
       "    .dataframe thead th {\n",
       "        text-align: right;\n",
       "    }\n",
       "</style>\n",
       "<table border=\"1\" class=\"dataframe\">\n",
       "  <thead>\n",
       "    <tr style=\"text-align: right;\">\n",
       "      <th></th>\n",
       "      <th>Unnamed: 0</th>\n",
       "      <th>date_time</th>\n",
       "      <th>elevation</th>\n",
       "      <th>azimuth</th>\n",
       "      <th>dt_iso</th>\n",
       "      <th>lat</th>\n",
       "      <th>lon</th>\n",
       "      <th>temp</th>\n",
       "      <th>feels_like</th>\n",
       "      <th>temp_min</th>\n",
       "      <th>temp_max</th>\n",
       "      <th>pressure</th>\n",
       "      <th>humidity</th>\n",
       "      <th>wind_speed</th>\n",
       "      <th>wind_deg</th>\n",
       "      <th>rain_1h</th>\n",
       "      <th>rain_3h</th>\n",
       "      <th>snow_1h</th>\n",
       "      <th>snow_3h</th>\n",
       "      <th>clouds_all</th>\n",
       "      <th>weather_id</th>\n",
       "      <th>weather_main</th>\n",
       "      <th>weather_description</th>\n",
       "      <th>weather_icon</th>\n",
       "      <th>Date/Time</th>\n",
       "      <th>Power Delivered (W)</th>\n",
       "      <th>Energy Delivered (Wh)</th>\n",
       "    </tr>\n",
       "  </thead>\n",
       "  <tbody>\n",
       "    <tr>\n",
       "      <th>0</th>\n",
       "      <td>0</td>\n",
       "      <td>2019-12-15 08:00:00</td>\n",
       "      <td>6.62</td>\n",
       "      <td>121.96</td>\n",
       "      <td>2019-12-15 08:00:00 +0000 UTC</td>\n",
       "      <td>30.442344</td>\n",
       "      <td>-97.769885</td>\n",
       "      <td>53.98</td>\n",
       "      <td>51.39</td>\n",
       "      <td>51.01</td>\n",
       "      <td>57.00</td>\n",
       "      <td>1005</td>\n",
       "      <td>77</td>\n",
       "      <td>3.36</td>\n",
       "      <td>150</td>\n",
       "      <td>0.0</td>\n",
       "      <td>0.0</td>\n",
       "      <td>0.0</td>\n",
       "      <td>0.0</td>\n",
       "      <td>1</td>\n",
       "      <td>800</td>\n",
       "      <td>Clear</td>\n",
       "      <td>sky is clear</td>\n",
       "      <td>01n</td>\n",
       "      <td>2019-12-15 08:00:00</td>\n",
       "      <td>495.0</td>\n",
       "      <td>121.0</td>\n",
       "    </tr>\n",
       "    <tr>\n",
       "      <th>1</th>\n",
       "      <td>1</td>\n",
       "      <td>2019-12-15 09:00:00</td>\n",
       "      <td>17.01</td>\n",
       "      <td>131.20</td>\n",
       "      <td>2019-12-15 09:00:00 +0000 UTC</td>\n",
       "      <td>30.442344</td>\n",
       "      <td>-97.769885</td>\n",
       "      <td>53.29</td>\n",
       "      <td>47.59</td>\n",
       "      <td>50.00</td>\n",
       "      <td>56.30</td>\n",
       "      <td>1005</td>\n",
       "      <td>82</td>\n",
       "      <td>9.33</td>\n",
       "      <td>195</td>\n",
       "      <td>0.0</td>\n",
       "      <td>0.0</td>\n",
       "      <td>0.0</td>\n",
       "      <td>0.0</td>\n",
       "      <td>1</td>\n",
       "      <td>800</td>\n",
       "      <td>Clear</td>\n",
       "      <td>sky is clear</td>\n",
       "      <td>01n</td>\n",
       "      <td>2019-12-15 09:00:00</td>\n",
       "      <td>1664.0</td>\n",
       "      <td>416.0</td>\n",
       "    </tr>\n",
       "    <tr>\n",
       "      <th>2</th>\n",
       "      <td>2</td>\n",
       "      <td>2019-12-15 10:00:00</td>\n",
       "      <td>25.86</td>\n",
       "      <td>142.55</td>\n",
       "      <td>2019-12-15 10:00:00 +0000 UTC</td>\n",
       "      <td>30.442344</td>\n",
       "      <td>-97.769885</td>\n",
       "      <td>52.99</td>\n",
       "      <td>46.13</td>\n",
       "      <td>50.00</td>\n",
       "      <td>55.99</td>\n",
       "      <td>1005</td>\n",
       "      <td>85</td>\n",
       "      <td>11.68</td>\n",
       "      <td>204</td>\n",
       "      <td>0.0</td>\n",
       "      <td>0.0</td>\n",
       "      <td>0.0</td>\n",
       "      <td>0.0</td>\n",
       "      <td>1</td>\n",
       "      <td>800</td>\n",
       "      <td>Clear</td>\n",
       "      <td>sky is clear</td>\n",
       "      <td>01n</td>\n",
       "      <td>2019-12-15 10:00:00</td>\n",
       "      <td>2500.0</td>\n",
       "      <td>625.0</td>\n",
       "    </tr>\n",
       "  </tbody>\n",
       "</table>\n",
       "</div>"
      ],
      "text/plain": [
       "   Unnamed: 0            date_time  elevation  azimuth  \\\n",
       "0           0  2019-12-15 08:00:00       6.62   121.96   \n",
       "1           1  2019-12-15 09:00:00      17.01   131.20   \n",
       "2           2  2019-12-15 10:00:00      25.86   142.55   \n",
       "\n",
       "                          dt_iso        lat        lon   temp  feels_like  \\\n",
       "0  2019-12-15 08:00:00 +0000 UTC  30.442344 -97.769885  53.98       51.39   \n",
       "1  2019-12-15 09:00:00 +0000 UTC  30.442344 -97.769885  53.29       47.59   \n",
       "2  2019-12-15 10:00:00 +0000 UTC  30.442344 -97.769885  52.99       46.13   \n",
       "\n",
       "   temp_min  temp_max  pressure  humidity  wind_speed  wind_deg  rain_1h  \\\n",
       "0     51.01     57.00      1005        77        3.36       150      0.0   \n",
       "1     50.00     56.30      1005        82        9.33       195      0.0   \n",
       "2     50.00     55.99      1005        85       11.68       204      0.0   \n",
       "\n",
       "   rain_3h  snow_1h  snow_3h  clouds_all  weather_id weather_main  \\\n",
       "0      0.0      0.0      0.0           1         800        Clear   \n",
       "1      0.0      0.0      0.0           1         800        Clear   \n",
       "2      0.0      0.0      0.0           1         800        Clear   \n",
       "\n",
       "  weather_description weather_icon            Date/Time  Power Delivered (W)  \\\n",
       "0        sky is clear          01n  2019-12-15 08:00:00                495.0   \n",
       "1        sky is clear          01n  2019-12-15 09:00:00               1664.0   \n",
       "2        sky is clear          01n  2019-12-15 10:00:00               2500.0   \n",
       "\n",
       "   Energy Delivered (Wh)  \n",
       "0                  121.0  \n",
       "1                  416.0  \n",
       "2                  625.0  "
      ]
     },
     "execution_count": 5,
     "metadata": {},
     "output_type": "execute_result"
    }
   ],
   "source": [
    "df.head(3)"
   ]
  },
  {
   "cell_type": "code",
   "execution_count": 6,
   "metadata": {},
   "outputs": [],
   "source": [
    "df.drop(columns=['Unnamed: 0', 'dt_iso', 'lat', 'lon', 'snow_1h', 'snow_3h', 'Date/Time'], inplace=True)"
   ]
  },
  {
   "cell_type": "code",
   "execution_count": 7,
   "metadata": {},
   "outputs": [
    {
     "data": {
      "text/html": [
       "<div>\n",
       "<style scoped>\n",
       "    .dataframe tbody tr th:only-of-type {\n",
       "        vertical-align: middle;\n",
       "    }\n",
       "\n",
       "    .dataframe tbody tr th {\n",
       "        vertical-align: top;\n",
       "    }\n",
       "\n",
       "    .dataframe thead th {\n",
       "        text-align: right;\n",
       "    }\n",
       "</style>\n",
       "<table border=\"1\" class=\"dataframe\">\n",
       "  <thead>\n",
       "    <tr style=\"text-align: right;\">\n",
       "      <th></th>\n",
       "      <th>Unnamed: 0</th>\n",
       "      <th>Date/Time</th>\n",
       "      <th>Energy Produced (Wh)</th>\n",
       "      <th>Date/Time.1</th>\n",
       "      <th>Energy Consumed (Wh)</th>\n",
       "    </tr>\n",
       "  </thead>\n",
       "  <tbody>\n",
       "    <tr>\n",
       "      <th>0</th>\n",
       "      <td>0</td>\n",
       "      <td>2019-12-13 00:00:00 -0600</td>\n",
       "      <td>17494</td>\n",
       "      <td>12/13/2019 0:00</td>\n",
       "      <td>0</td>\n",
       "    </tr>\n",
       "    <tr>\n",
       "      <th>1</th>\n",
       "      <td>1</td>\n",
       "      <td>2019-12-14 00:00:00 -0600</td>\n",
       "      <td>26429</td>\n",
       "      <td>12/14/2019 0:00</td>\n",
       "      <td>0</td>\n",
       "    </tr>\n",
       "    <tr>\n",
       "      <th>2</th>\n",
       "      <td>2</td>\n",
       "      <td>2019-12-15 00:00:00 -0600</td>\n",
       "      <td>16744</td>\n",
       "      <td>12/15/2019 0:00</td>\n",
       "      <td>12514</td>\n",
       "    </tr>\n",
       "  </tbody>\n",
       "</table>\n",
       "</div>"
      ],
      "text/plain": [
       "   Unnamed: 0                  Date/Time  Energy Produced (Wh)  \\\n",
       "0           0  2019-12-13 00:00:00 -0600                 17494   \n",
       "1           1  2019-12-14 00:00:00 -0600                 26429   \n",
       "2           2  2019-12-15 00:00:00 -0600                 16744   \n",
       "\n",
       "       Date/Time.1  Energy Consumed (Wh)  \n",
       "0  12/13/2019 0:00                     0  \n",
       "1  12/14/2019 0:00                     0  \n",
       "2  12/15/2019 0:00                 12514  "
      ]
     },
     "execution_count": 7,
     "metadata": {},
     "output_type": "execute_result"
    }
   ],
   "source": [
    "solar_daily.head(3)"
   ]
  },
  {
   "cell_type": "code",
   "execution_count": 8,
   "metadata": {},
   "outputs": [],
   "source": [
    "df['date_time'] = pd.to_datetime(df['date_time'])"
   ]
  },
  {
   "cell_type": "code",
   "execution_count": 9,
   "metadata": {},
   "outputs": [],
   "source": [
    "df.set_index(df['date_time'], drop=True, inplace=True)"
   ]
  },
  {
   "cell_type": "code",
   "execution_count": 10,
   "metadata": {},
   "outputs": [
    {
     "data": {
      "text/html": [
       "<div>\n",
       "<style scoped>\n",
       "    .dataframe tbody tr th:only-of-type {\n",
       "        vertical-align: middle;\n",
       "    }\n",
       "\n",
       "    .dataframe tbody tr th {\n",
       "        vertical-align: top;\n",
       "    }\n",
       "\n",
       "    .dataframe thead th {\n",
       "        text-align: right;\n",
       "    }\n",
       "</style>\n",
       "<table border=\"1\" class=\"dataframe\">\n",
       "  <thead>\n",
       "    <tr style=\"text-align: right;\">\n",
       "      <th></th>\n",
       "      <th>date_time</th>\n",
       "      <th>elevation</th>\n",
       "      <th>azimuth</th>\n",
       "      <th>temp</th>\n",
       "      <th>feels_like</th>\n",
       "      <th>temp_min</th>\n",
       "      <th>temp_max</th>\n",
       "      <th>pressure</th>\n",
       "      <th>humidity</th>\n",
       "      <th>wind_speed</th>\n",
       "      <th>wind_deg</th>\n",
       "      <th>rain_1h</th>\n",
       "      <th>rain_3h</th>\n",
       "      <th>clouds_all</th>\n",
       "      <th>weather_id</th>\n",
       "      <th>weather_main</th>\n",
       "      <th>weather_description</th>\n",
       "      <th>weather_icon</th>\n",
       "      <th>Power Delivered (W)</th>\n",
       "      <th>Energy Delivered (Wh)</th>\n",
       "    </tr>\n",
       "    <tr>\n",
       "      <th>date_time</th>\n",
       "      <th></th>\n",
       "      <th></th>\n",
       "      <th></th>\n",
       "      <th></th>\n",
       "      <th></th>\n",
       "      <th></th>\n",
       "      <th></th>\n",
       "      <th></th>\n",
       "      <th></th>\n",
       "      <th></th>\n",
       "      <th></th>\n",
       "      <th></th>\n",
       "      <th></th>\n",
       "      <th></th>\n",
       "      <th></th>\n",
       "      <th></th>\n",
       "      <th></th>\n",
       "      <th></th>\n",
       "      <th></th>\n",
       "      <th></th>\n",
       "    </tr>\n",
       "  </thead>\n",
       "  <tbody>\n",
       "    <tr>\n",
       "      <th>2020-05-17 21:00:00</th>\n",
       "      <td>2020-05-17 21:00:00</td>\n",
       "      <td>0.0</td>\n",
       "      <td>0.0</td>\n",
       "      <td>87.87</td>\n",
       "      <td>85.37</td>\n",
       "      <td>84.99</td>\n",
       "      <td>90.0</td>\n",
       "      <td>1012</td>\n",
       "      <td>33</td>\n",
       "      <td>7.27</td>\n",
       "      <td>349</td>\n",
       "      <td>0.0</td>\n",
       "      <td>0.0</td>\n",
       "      <td>1</td>\n",
       "      <td>800</td>\n",
       "      <td>Clear</td>\n",
       "      <td>sky is clear</td>\n",
       "      <td>01d</td>\n",
       "      <td>0.0</td>\n",
       "      <td>0.0</td>\n",
       "    </tr>\n",
       "    <tr>\n",
       "      <th>2020-05-17 22:00:00</th>\n",
       "      <td>2020-05-17 22:00:00</td>\n",
       "      <td>0.0</td>\n",
       "      <td>0.0</td>\n",
       "      <td>88.07</td>\n",
       "      <td>88.41</td>\n",
       "      <td>85.65</td>\n",
       "      <td>90.0</td>\n",
       "      <td>1012</td>\n",
       "      <td>38</td>\n",
       "      <td>4.70</td>\n",
       "      <td>350</td>\n",
       "      <td>0.0</td>\n",
       "      <td>0.0</td>\n",
       "      <td>1</td>\n",
       "      <td>721</td>\n",
       "      <td>Haze</td>\n",
       "      <td>haze</td>\n",
       "      <td>50d</td>\n",
       "      <td>0.0</td>\n",
       "      <td>0.0</td>\n",
       "    </tr>\n",
       "    <tr>\n",
       "      <th>2020-05-17 23:00:00</th>\n",
       "      <td>2020-05-17 23:00:00</td>\n",
       "      <td>0.0</td>\n",
       "      <td>0.0</td>\n",
       "      <td>88.09</td>\n",
       "      <td>85.39</td>\n",
       "      <td>86.00</td>\n",
       "      <td>91.4</td>\n",
       "      <td>1011</td>\n",
       "      <td>29</td>\n",
       "      <td>5.82</td>\n",
       "      <td>0</td>\n",
       "      <td>0.0</td>\n",
       "      <td>0.0</td>\n",
       "      <td>1</td>\n",
       "      <td>800</td>\n",
       "      <td>Clear</td>\n",
       "      <td>sky is clear</td>\n",
       "      <td>01d</td>\n",
       "      <td>0.0</td>\n",
       "      <td>0.0</td>\n",
       "    </tr>\n",
       "  </tbody>\n",
       "</table>\n",
       "</div>"
      ],
      "text/plain": [
       "                              date_time  elevation  azimuth   temp  \\\n",
       "date_time                                                            \n",
       "2020-05-17 21:00:00 2020-05-17 21:00:00        0.0      0.0  87.87   \n",
       "2020-05-17 22:00:00 2020-05-17 22:00:00        0.0      0.0  88.07   \n",
       "2020-05-17 23:00:00 2020-05-17 23:00:00        0.0      0.0  88.09   \n",
       "\n",
       "                     feels_like  temp_min  temp_max  pressure  humidity  \\\n",
       "date_time                                                                 \n",
       "2020-05-17 21:00:00       85.37     84.99      90.0      1012        33   \n",
       "2020-05-17 22:00:00       88.41     85.65      90.0      1012        38   \n",
       "2020-05-17 23:00:00       85.39     86.00      91.4      1011        29   \n",
       "\n",
       "                     wind_speed  wind_deg  rain_1h  rain_3h  clouds_all  \\\n",
       "date_time                                                                 \n",
       "2020-05-17 21:00:00        7.27       349      0.0      0.0           1   \n",
       "2020-05-17 22:00:00        4.70       350      0.0      0.0           1   \n",
       "2020-05-17 23:00:00        5.82         0      0.0      0.0           1   \n",
       "\n",
       "                     weather_id weather_main weather_description weather_icon  \\\n",
       "date_time                                                                       \n",
       "2020-05-17 21:00:00         800        Clear        sky is clear          01d   \n",
       "2020-05-17 22:00:00         721         Haze                haze          50d   \n",
       "2020-05-17 23:00:00         800        Clear        sky is clear          01d   \n",
       "\n",
       "                     Power Delivered (W)  Energy Delivered (Wh)  \n",
       "date_time                                                        \n",
       "2020-05-17 21:00:00                  0.0                    0.0  \n",
       "2020-05-17 22:00:00                  0.0                    0.0  \n",
       "2020-05-17 23:00:00                  0.0                    0.0  "
      ]
     },
     "execution_count": 10,
     "metadata": {},
     "output_type": "execute_result"
    }
   ],
   "source": [
    "df.tail(3)"
   ]
  },
  {
   "cell_type": "code",
   "execution_count": 11,
   "metadata": {},
   "outputs": [
    {
     "data": {
      "text/plain": [
       "Index(['date_time', 'elevation', 'azimuth', 'temp', 'feels_like', 'temp_min',\n",
       "       'temp_max', 'pressure', 'humidity', 'wind_speed', 'wind_deg', 'rain_1h',\n",
       "       'rain_3h', 'clouds_all', 'weather_id', 'weather_main',\n",
       "       'weather_description', 'weather_icon', 'Power Delivered (W)',\n",
       "       'Energy Delivered (Wh)'],\n",
       "      dtype='object')"
      ]
     },
     "execution_count": 11,
     "metadata": {},
     "output_type": "execute_result"
    }
   ],
   "source": [
    "df.columns"
   ]
  },
  {
   "cell_type": "code",
   "execution_count": 12,
   "metadata": {},
   "outputs": [],
   "source": [
    "df_mean = df[['elevation', 'azimuth', 'temp', 'feels_like', 'temp_min', \\\n",
    "       'temp_max', 'pressure', 'humidity', 'wind_speed', 'wind_deg', 'rain_1h', \\\n",
    "       'rain_3h', 'clouds_all', 'Power Delivered (W)', 'Energy Delivered (Wh)']]\n",
    "df_sum = df[['rain_1h', 'Power Delivered (W)', 'Energy Delivered (Wh)']]\n",
    "df_max = df[['elevation', 'azimuth', 'feels_like', 'temp_max', 'pressure', 'humidity', \\\n",
    "             'wind_speed', 'clouds_all']]\n",
    "df_min = df[['feels_like', 'temp_min','pressure', 'humidity', 'wind_speed', 'clouds_all']]"
   ]
  },
  {
   "cell_type": "code",
   "execution_count": 13,
   "metadata": {},
   "outputs": [
    {
     "data": {
      "text/html": [
       "<div>\n",
       "<style scoped>\n",
       "    .dataframe tbody tr th:only-of-type {\n",
       "        vertical-align: middle;\n",
       "    }\n",
       "\n",
       "    .dataframe tbody tr th {\n",
       "        vertical-align: top;\n",
       "    }\n",
       "\n",
       "    .dataframe thead th {\n",
       "        text-align: right;\n",
       "    }\n",
       "</style>\n",
       "<table border=\"1\" class=\"dataframe\">\n",
       "  <thead>\n",
       "    <tr style=\"text-align: right;\">\n",
       "      <th></th>\n",
       "      <th>elevation</th>\n",
       "      <th>azimuth</th>\n",
       "      <th>temp</th>\n",
       "      <th>feels_like</th>\n",
       "      <th>temp_min</th>\n",
       "      <th>temp_max</th>\n",
       "      <th>pressure</th>\n",
       "      <th>humidity</th>\n",
       "      <th>wind_speed</th>\n",
       "      <th>wind_deg</th>\n",
       "      <th>rain_1h</th>\n",
       "      <th>rain_3h</th>\n",
       "      <th>clouds_all</th>\n",
       "      <th>Power Delivered (W)</th>\n",
       "      <th>Energy Delivered (Wh)</th>\n",
       "    </tr>\n",
       "    <tr>\n",
       "      <th>date_time</th>\n",
       "      <th></th>\n",
       "      <th></th>\n",
       "      <th></th>\n",
       "      <th></th>\n",
       "      <th></th>\n",
       "      <th></th>\n",
       "      <th></th>\n",
       "      <th></th>\n",
       "      <th></th>\n",
       "      <th></th>\n",
       "      <th></th>\n",
       "      <th></th>\n",
       "      <th></th>\n",
       "      <th></th>\n",
       "      <th></th>\n",
       "    </tr>\n",
       "  </thead>\n",
       "  <tbody>\n",
       "    <tr>\n",
       "      <th>2019-12-15 08:00:00</th>\n",
       "      <td>6.62</td>\n",
       "      <td>121.96</td>\n",
       "      <td>53.98</td>\n",
       "      <td>51.39</td>\n",
       "      <td>51.01</td>\n",
       "      <td>57.00</td>\n",
       "      <td>1005</td>\n",
       "      <td>77</td>\n",
       "      <td>3.36</td>\n",
       "      <td>150</td>\n",
       "      <td>0.0</td>\n",
       "      <td>0.0</td>\n",
       "      <td>1</td>\n",
       "      <td>495.0</td>\n",
       "      <td>121.0</td>\n",
       "    </tr>\n",
       "    <tr>\n",
       "      <th>2019-12-15 09:00:00</th>\n",
       "      <td>17.01</td>\n",
       "      <td>131.20</td>\n",
       "      <td>53.29</td>\n",
       "      <td>47.59</td>\n",
       "      <td>50.00</td>\n",
       "      <td>56.30</td>\n",
       "      <td>1005</td>\n",
       "      <td>82</td>\n",
       "      <td>9.33</td>\n",
       "      <td>195</td>\n",
       "      <td>0.0</td>\n",
       "      <td>0.0</td>\n",
       "      <td>1</td>\n",
       "      <td>1664.0</td>\n",
       "      <td>416.0</td>\n",
       "    </tr>\n",
       "    <tr>\n",
       "      <th>2019-12-15 10:00:00</th>\n",
       "      <td>25.86</td>\n",
       "      <td>142.55</td>\n",
       "      <td>52.99</td>\n",
       "      <td>46.13</td>\n",
       "      <td>50.00</td>\n",
       "      <td>55.99</td>\n",
       "      <td>1005</td>\n",
       "      <td>85</td>\n",
       "      <td>11.68</td>\n",
       "      <td>204</td>\n",
       "      <td>0.0</td>\n",
       "      <td>0.0</td>\n",
       "      <td>1</td>\n",
       "      <td>2500.0</td>\n",
       "      <td>625.0</td>\n",
       "    </tr>\n",
       "  </tbody>\n",
       "</table>\n",
       "</div>"
      ],
      "text/plain": [
       "                     elevation  azimuth   temp  feels_like  temp_min  \\\n",
       "date_time                                                              \n",
       "2019-12-15 08:00:00       6.62   121.96  53.98       51.39     51.01   \n",
       "2019-12-15 09:00:00      17.01   131.20  53.29       47.59     50.00   \n",
       "2019-12-15 10:00:00      25.86   142.55  52.99       46.13     50.00   \n",
       "\n",
       "                     temp_max  pressure  humidity  wind_speed  wind_deg  \\\n",
       "date_time                                                                 \n",
       "2019-12-15 08:00:00     57.00      1005        77        3.36       150   \n",
       "2019-12-15 09:00:00     56.30      1005        82        9.33       195   \n",
       "2019-12-15 10:00:00     55.99      1005        85       11.68       204   \n",
       "\n",
       "                     rain_1h  rain_3h  clouds_all  Power Delivered (W)  \\\n",
       "date_time                                                                \n",
       "2019-12-15 08:00:00      0.0      0.0           1                495.0   \n",
       "2019-12-15 09:00:00      0.0      0.0           1               1664.0   \n",
       "2019-12-15 10:00:00      0.0      0.0           1               2500.0   \n",
       "\n",
       "                     Energy Delivered (Wh)  \n",
       "date_time                                   \n",
       "2019-12-15 08:00:00                  121.0  \n",
       "2019-12-15 09:00:00                  416.0  \n",
       "2019-12-15 10:00:00                  625.0  "
      ]
     },
     "execution_count": 13,
     "metadata": {},
     "output_type": "execute_result"
    }
   ],
   "source": [
    "df_mean.head(3)"
   ]
  },
  {
   "cell_type": "code",
   "execution_count": 14,
   "metadata": {},
   "outputs": [],
   "source": [
    "df_mean = df_mean.resample('D').mean()"
   ]
  },
  {
   "cell_type": "code",
   "execution_count": 15,
   "metadata": {},
   "outputs": [
    {
     "data": {
      "text/html": [
       "<div>\n",
       "<style scoped>\n",
       "    .dataframe tbody tr th:only-of-type {\n",
       "        vertical-align: middle;\n",
       "    }\n",
       "\n",
       "    .dataframe tbody tr th {\n",
       "        vertical-align: top;\n",
       "    }\n",
       "\n",
       "    .dataframe thead th {\n",
       "        text-align: right;\n",
       "    }\n",
       "</style>\n",
       "<table border=\"1\" class=\"dataframe\">\n",
       "  <thead>\n",
       "    <tr style=\"text-align: right;\">\n",
       "      <th></th>\n",
       "      <th>elevation</th>\n",
       "      <th>azimuth</th>\n",
       "      <th>temp</th>\n",
       "      <th>feels_like</th>\n",
       "      <th>temp_min</th>\n",
       "      <th>temp_max</th>\n",
       "      <th>pressure</th>\n",
       "      <th>humidity</th>\n",
       "      <th>wind_speed</th>\n",
       "      <th>wind_deg</th>\n",
       "      <th>rain_1h</th>\n",
       "      <th>rain_3h</th>\n",
       "      <th>clouds_all</th>\n",
       "      <th>Power Delivered (W)</th>\n",
       "      <th>Energy Delivered (Wh)</th>\n",
       "    </tr>\n",
       "    <tr>\n",
       "      <th>date_time</th>\n",
       "      <th></th>\n",
       "      <th></th>\n",
       "      <th></th>\n",
       "      <th></th>\n",
       "      <th></th>\n",
       "      <th></th>\n",
       "      <th></th>\n",
       "      <th></th>\n",
       "      <th></th>\n",
       "      <th></th>\n",
       "      <th></th>\n",
       "      <th></th>\n",
       "      <th></th>\n",
       "      <th></th>\n",
       "      <th></th>\n",
       "    </tr>\n",
       "  </thead>\n",
       "  <tbody>\n",
       "    <tr>\n",
       "      <th>2019-12-15</th>\n",
       "      <td>14.451250</td>\n",
       "      <td>112.981250</td>\n",
       "      <td>62.101875</td>\n",
       "      <td>59.520625</td>\n",
       "      <td>59.478125</td>\n",
       "      <td>65.624375</td>\n",
       "      <td>1006.187500</td>\n",
       "      <td>75.250000</td>\n",
       "      <td>6.410625</td>\n",
       "      <td>115.500000</td>\n",
       "      <td>0.015625</td>\n",
       "      <td>0.0</td>\n",
       "      <td>28.812500</td>\n",
       "      <td>4176.437500</td>\n",
       "      <td>1043.937500</td>\n",
       "    </tr>\n",
       "    <tr>\n",
       "      <th>2019-12-16</th>\n",
       "      <td>9.619583</td>\n",
       "      <td>75.278333</td>\n",
       "      <td>57.261250</td>\n",
       "      <td>53.526250</td>\n",
       "      <td>53.525417</td>\n",
       "      <td>61.252083</td>\n",
       "      <td>1010.250000</td>\n",
       "      <td>73.875000</td>\n",
       "      <td>7.102917</td>\n",
       "      <td>204.583333</td>\n",
       "      <td>0.048750</td>\n",
       "      <td>0.0</td>\n",
       "      <td>59.500000</td>\n",
       "      <td>0.000000</td>\n",
       "      <td>0.000000</td>\n",
       "    </tr>\n",
       "    <tr>\n",
       "      <th>2019-12-17</th>\n",
       "      <td>9.607500</td>\n",
       "      <td>75.236667</td>\n",
       "      <td>41.207917</td>\n",
       "      <td>30.841667</td>\n",
       "      <td>38.852083</td>\n",
       "      <td>44.054167</td>\n",
       "      <td>1024.208333</td>\n",
       "      <td>52.666667</td>\n",
       "      <td>10.241667</td>\n",
       "      <td>266.625000</td>\n",
       "      <td>0.000000</td>\n",
       "      <td>0.0</td>\n",
       "      <td>7.916667</td>\n",
       "      <td>6863.666667</td>\n",
       "      <td>1715.916667</td>\n",
       "    </tr>\n",
       "  </tbody>\n",
       "</table>\n",
       "</div>"
      ],
      "text/plain": [
       "            elevation     azimuth       temp  feels_like   temp_min  \\\n",
       "date_time                                                             \n",
       "2019-12-15  14.451250  112.981250  62.101875   59.520625  59.478125   \n",
       "2019-12-16   9.619583   75.278333  57.261250   53.526250  53.525417   \n",
       "2019-12-17   9.607500   75.236667  41.207917   30.841667  38.852083   \n",
       "\n",
       "             temp_max     pressure   humidity  wind_speed    wind_deg  \\\n",
       "date_time                                                               \n",
       "2019-12-15  65.624375  1006.187500  75.250000    6.410625  115.500000   \n",
       "2019-12-16  61.252083  1010.250000  73.875000    7.102917  204.583333   \n",
       "2019-12-17  44.054167  1024.208333  52.666667   10.241667  266.625000   \n",
       "\n",
       "             rain_1h  rain_3h  clouds_all  Power Delivered (W)  \\\n",
       "date_time                                                        \n",
       "2019-12-15  0.015625      0.0   28.812500          4176.437500   \n",
       "2019-12-16  0.048750      0.0   59.500000             0.000000   \n",
       "2019-12-17  0.000000      0.0    7.916667          6863.666667   \n",
       "\n",
       "            Energy Delivered (Wh)  \n",
       "date_time                          \n",
       "2019-12-15            1043.937500  \n",
       "2019-12-16               0.000000  \n",
       "2019-12-17            1715.916667  "
      ]
     },
     "execution_count": 15,
     "metadata": {},
     "output_type": "execute_result"
    }
   ],
   "source": [
    "df_mean.head(3)"
   ]
  },
  {
   "cell_type": "code",
   "execution_count": 16,
   "metadata": {},
   "outputs": [
    {
     "data": {
      "text/plain": [
       "Index(['elevation', 'azimuth', 'temp', 'feels_like', 'temp_min', 'temp_max',\n",
       "       'pressure', 'humidity', 'wind_speed', 'wind_deg', 'rain_1h', 'rain_3h',\n",
       "       'clouds_all', 'Power Delivered (W)', 'Energy Delivered (Wh)'],\n",
       "      dtype='object')"
      ]
     },
     "execution_count": 16,
     "metadata": {},
     "output_type": "execute_result"
    }
   ],
   "source": [
    "df_mean.columns"
   ]
  },
  {
   "cell_type": "code",
   "execution_count": 17,
   "metadata": {},
   "outputs": [],
   "source": [
    "df_mean = df_mean.rename(columns={'elevation': 'elevation_mean', 'azimuth': 'azimuth_mean', \\\n",
    "                        'temp': 'temp_mean', 'feels_like': 'feels_like_mean', \n",
    "                        'temp_min': 'temp_min_mean', 'temp_max': 'temp_max_mean', \\\n",
    "                        'pressure': 'pressure_mean', 'humidity': 'humidity_mean', \\\n",
    "                        'wind_speed': 'wind_speed_mean', 'wind_deg':'wind_deg_mean', \\\n",
    "                        'rain_1h': 'rain_1h_mean', 'rain_3h': 'rain_3h_mean', \\\n",
    "                        'clouds_all': 'clouds_all_mean', 'Power Delivered (W)': 'power_mean', \\\n",
    "                        'Energy Delivered (Wh)': 'energy_mean'})"
   ]
  },
  {
   "cell_type": "code",
   "execution_count": 18,
   "metadata": {},
   "outputs": [
    {
     "data": {
      "text/html": [
       "<div>\n",
       "<style scoped>\n",
       "    .dataframe tbody tr th:only-of-type {\n",
       "        vertical-align: middle;\n",
       "    }\n",
       "\n",
       "    .dataframe tbody tr th {\n",
       "        vertical-align: top;\n",
       "    }\n",
       "\n",
       "    .dataframe thead th {\n",
       "        text-align: right;\n",
       "    }\n",
       "</style>\n",
       "<table border=\"1\" class=\"dataframe\">\n",
       "  <thead>\n",
       "    <tr style=\"text-align: right;\">\n",
       "      <th></th>\n",
       "      <th>elevation_mean</th>\n",
       "      <th>azimuth_mean</th>\n",
       "      <th>temp_mean</th>\n",
       "      <th>feels_like_mean</th>\n",
       "      <th>temp_min_mean</th>\n",
       "      <th>temp_max_mean</th>\n",
       "      <th>pressure_mean</th>\n",
       "      <th>humidity_mean</th>\n",
       "      <th>wind_speed_mean</th>\n",
       "      <th>wind_deg_mean</th>\n",
       "      <th>rain_1h_mean</th>\n",
       "      <th>rain_3h_mean</th>\n",
       "      <th>clouds_all_mean</th>\n",
       "      <th>power_mean</th>\n",
       "      <th>energy_mean</th>\n",
       "    </tr>\n",
       "    <tr>\n",
       "      <th>date_time</th>\n",
       "      <th></th>\n",
       "      <th></th>\n",
       "      <th></th>\n",
       "      <th></th>\n",
       "      <th></th>\n",
       "      <th></th>\n",
       "      <th></th>\n",
       "      <th></th>\n",
       "      <th></th>\n",
       "      <th></th>\n",
       "      <th></th>\n",
       "      <th></th>\n",
       "      <th></th>\n",
       "      <th></th>\n",
       "      <th></th>\n",
       "    </tr>\n",
       "  </thead>\n",
       "  <tbody>\n",
       "    <tr>\n",
       "      <th>2019-12-15</th>\n",
       "      <td>14.451250</td>\n",
       "      <td>112.981250</td>\n",
       "      <td>62.101875</td>\n",
       "      <td>59.520625</td>\n",
       "      <td>59.478125</td>\n",
       "      <td>65.624375</td>\n",
       "      <td>1006.187500</td>\n",
       "      <td>75.250000</td>\n",
       "      <td>6.410625</td>\n",
       "      <td>115.500000</td>\n",
       "      <td>0.015625</td>\n",
       "      <td>0.0</td>\n",
       "      <td>28.812500</td>\n",
       "      <td>4176.437500</td>\n",
       "      <td>1043.937500</td>\n",
       "    </tr>\n",
       "    <tr>\n",
       "      <th>2019-12-16</th>\n",
       "      <td>9.619583</td>\n",
       "      <td>75.278333</td>\n",
       "      <td>57.261250</td>\n",
       "      <td>53.526250</td>\n",
       "      <td>53.525417</td>\n",
       "      <td>61.252083</td>\n",
       "      <td>1010.250000</td>\n",
       "      <td>73.875000</td>\n",
       "      <td>7.102917</td>\n",
       "      <td>204.583333</td>\n",
       "      <td>0.048750</td>\n",
       "      <td>0.0</td>\n",
       "      <td>59.500000</td>\n",
       "      <td>0.000000</td>\n",
       "      <td>0.000000</td>\n",
       "    </tr>\n",
       "    <tr>\n",
       "      <th>2019-12-17</th>\n",
       "      <td>9.607500</td>\n",
       "      <td>75.236667</td>\n",
       "      <td>41.207917</td>\n",
       "      <td>30.841667</td>\n",
       "      <td>38.852083</td>\n",
       "      <td>44.054167</td>\n",
       "      <td>1024.208333</td>\n",
       "      <td>52.666667</td>\n",
       "      <td>10.241667</td>\n",
       "      <td>266.625000</td>\n",
       "      <td>0.000000</td>\n",
       "      <td>0.0</td>\n",
       "      <td>7.916667</td>\n",
       "      <td>6863.666667</td>\n",
       "      <td>1715.916667</td>\n",
       "    </tr>\n",
       "  </tbody>\n",
       "</table>\n",
       "</div>"
      ],
      "text/plain": [
       "            elevation_mean  azimuth_mean  temp_mean  feels_like_mean  \\\n",
       "date_time                                                              \n",
       "2019-12-15       14.451250    112.981250  62.101875        59.520625   \n",
       "2019-12-16        9.619583     75.278333  57.261250        53.526250   \n",
       "2019-12-17        9.607500     75.236667  41.207917        30.841667   \n",
       "\n",
       "            temp_min_mean  temp_max_mean  pressure_mean  humidity_mean  \\\n",
       "date_time                                                                \n",
       "2019-12-15      59.478125      65.624375    1006.187500      75.250000   \n",
       "2019-12-16      53.525417      61.252083    1010.250000      73.875000   \n",
       "2019-12-17      38.852083      44.054167    1024.208333      52.666667   \n",
       "\n",
       "            wind_speed_mean  wind_deg_mean  rain_1h_mean  rain_3h_mean  \\\n",
       "date_time                                                                \n",
       "2019-12-15         6.410625     115.500000      0.015625           0.0   \n",
       "2019-12-16         7.102917     204.583333      0.048750           0.0   \n",
       "2019-12-17        10.241667     266.625000      0.000000           0.0   \n",
       "\n",
       "            clouds_all_mean   power_mean  energy_mean  \n",
       "date_time                                              \n",
       "2019-12-15        28.812500  4176.437500  1043.937500  \n",
       "2019-12-16        59.500000     0.000000     0.000000  \n",
       "2019-12-17         7.916667  6863.666667  1715.916667  "
      ]
     },
     "execution_count": 18,
     "metadata": {},
     "output_type": "execute_result"
    }
   ],
   "source": [
    "df_mean.head(3)"
   ]
  },
  {
   "cell_type": "code",
   "execution_count": 19,
   "metadata": {},
   "outputs": [],
   "source": [
    "df_sum = df_sum.resample('D').sum()"
   ]
  },
  {
   "cell_type": "code",
   "execution_count": 20,
   "metadata": {},
   "outputs": [],
   "source": [
    "df_sum = df_sum.rename(columns={'rain_1h': 'rain_1h_sum', 'Power Delivered (W)': 'power_sum', \\\n",
    "                       'Energy Delivered (Wh)': 'energy_sum'})"
   ]
  },
  {
   "cell_type": "code",
   "execution_count": 21,
   "metadata": {},
   "outputs": [
    {
     "data": {
      "text/html": [
       "<div>\n",
       "<style scoped>\n",
       "    .dataframe tbody tr th:only-of-type {\n",
       "        vertical-align: middle;\n",
       "    }\n",
       "\n",
       "    .dataframe tbody tr th {\n",
       "        vertical-align: top;\n",
       "    }\n",
       "\n",
       "    .dataframe thead th {\n",
       "        text-align: right;\n",
       "    }\n",
       "</style>\n",
       "<table border=\"1\" class=\"dataframe\">\n",
       "  <thead>\n",
       "    <tr style=\"text-align: right;\">\n",
       "      <th></th>\n",
       "      <th>rain_1h_sum</th>\n",
       "      <th>power_sum</th>\n",
       "      <th>energy_sum</th>\n",
       "    </tr>\n",
       "    <tr>\n",
       "      <th>date_time</th>\n",
       "      <th></th>\n",
       "      <th></th>\n",
       "      <th></th>\n",
       "    </tr>\n",
       "  </thead>\n",
       "  <tbody>\n",
       "    <tr>\n",
       "      <th>2019-12-15</th>\n",
       "      <td>0.25</td>\n",
       "      <td>66823.0</td>\n",
       "      <td>16703.0</td>\n",
       "    </tr>\n",
       "    <tr>\n",
       "      <th>2019-12-16</th>\n",
       "      <td>1.17</td>\n",
       "      <td>0.0</td>\n",
       "      <td>0.0</td>\n",
       "    </tr>\n",
       "    <tr>\n",
       "      <th>2019-12-17</th>\n",
       "      <td>0.00</td>\n",
       "      <td>164728.0</td>\n",
       "      <td>41182.0</td>\n",
       "    </tr>\n",
       "  </tbody>\n",
       "</table>\n",
       "</div>"
      ],
      "text/plain": [
       "            rain_1h_sum  power_sum  energy_sum\n",
       "date_time                                     \n",
       "2019-12-15         0.25    66823.0     16703.0\n",
       "2019-12-16         1.17        0.0         0.0\n",
       "2019-12-17         0.00   164728.0     41182.0"
      ]
     },
     "execution_count": 21,
     "metadata": {},
     "output_type": "execute_result"
    }
   ],
   "source": [
    "df_sum.head(3)"
   ]
  },
  {
   "cell_type": "code",
   "execution_count": 22,
   "metadata": {},
   "outputs": [],
   "source": [
    "df_max = df_max.resample('D').max()"
   ]
  },
  {
   "cell_type": "code",
   "execution_count": 23,
   "metadata": {},
   "outputs": [],
   "source": [
    "df_max = df_max.rename(columns={'elevation': 'elevation_max', 'azimuth': 'azimuth_max', \\\n",
    "                       'feels_like': 'feels_like_max', 'temp_max': 'temp_max_max', \\\n",
    "                       'pressure': 'pressure_max', 'humidity': 'humidity_max', \\\n",
    "                       'wind_speed': 'wind_speed_max', 'clouds_all': 'clouds_all_max'})"
   ]
  },
  {
   "cell_type": "code",
   "execution_count": 24,
   "metadata": {},
   "outputs": [
    {
     "data": {
      "text/html": [
       "<div>\n",
       "<style scoped>\n",
       "    .dataframe tbody tr th:only-of-type {\n",
       "        vertical-align: middle;\n",
       "    }\n",
       "\n",
       "    .dataframe tbody tr th {\n",
       "        vertical-align: top;\n",
       "    }\n",
       "\n",
       "    .dataframe thead th {\n",
       "        text-align: right;\n",
       "    }\n",
       "</style>\n",
       "<table border=\"1\" class=\"dataframe\">\n",
       "  <thead>\n",
       "    <tr style=\"text-align: right;\">\n",
       "      <th></th>\n",
       "      <th>elevation_max</th>\n",
       "      <th>azimuth_max</th>\n",
       "      <th>feels_like_max</th>\n",
       "      <th>temp_max_max</th>\n",
       "      <th>pressure_max</th>\n",
       "      <th>humidity_max</th>\n",
       "      <th>wind_speed_max</th>\n",
       "      <th>clouds_all_max</th>\n",
       "    </tr>\n",
       "    <tr>\n",
       "      <th>date_time</th>\n",
       "      <th></th>\n",
       "      <th></th>\n",
       "      <th></th>\n",
       "      <th></th>\n",
       "      <th></th>\n",
       "      <th></th>\n",
       "      <th></th>\n",
       "      <th></th>\n",
       "    </tr>\n",
       "  </thead>\n",
       "  <tbody>\n",
       "    <tr>\n",
       "      <th>2019-12-15</th>\n",
       "      <td>35.93</td>\n",
       "      <td>239.05</td>\n",
       "      <td>76.71</td>\n",
       "      <td>81.16</td>\n",
       "      <td>1009</td>\n",
       "      <td>93</td>\n",
       "      <td>11.68</td>\n",
       "      <td>90</td>\n",
       "    </tr>\n",
       "    <tr>\n",
       "      <th>2019-12-16</th>\n",
       "      <td>35.87</td>\n",
       "      <td>238.95</td>\n",
       "      <td>70.81</td>\n",
       "      <td>75.20</td>\n",
       "      <td>1017</td>\n",
       "      <td>93</td>\n",
       "      <td>13.87</td>\n",
       "      <td>100</td>\n",
       "    </tr>\n",
       "    <tr>\n",
       "      <th>2019-12-17</th>\n",
       "      <td>35.82</td>\n",
       "      <td>238.85</td>\n",
       "      <td>40.60</td>\n",
       "      <td>55.04</td>\n",
       "      <td>1029</td>\n",
       "      <td>71</td>\n",
       "      <td>16.11</td>\n",
       "      <td>90</td>\n",
       "    </tr>\n",
       "  </tbody>\n",
       "</table>\n",
       "</div>"
      ],
      "text/plain": [
       "            elevation_max  azimuth_max  feels_like_max  temp_max_max  \\\n",
       "date_time                                                              \n",
       "2019-12-15          35.93       239.05           76.71         81.16   \n",
       "2019-12-16          35.87       238.95           70.81         75.20   \n",
       "2019-12-17          35.82       238.85           40.60         55.04   \n",
       "\n",
       "            pressure_max  humidity_max  wind_speed_max  clouds_all_max  \n",
       "date_time                                                               \n",
       "2019-12-15          1009            93           11.68              90  \n",
       "2019-12-16          1017            93           13.87             100  \n",
       "2019-12-17          1029            71           16.11              90  "
      ]
     },
     "execution_count": 24,
     "metadata": {},
     "output_type": "execute_result"
    }
   ],
   "source": [
    "df_max.head(3)"
   ]
  },
  {
   "cell_type": "code",
   "execution_count": 25,
   "metadata": {},
   "outputs": [],
   "source": [
    "df_min = df_min.resample('D').min()"
   ]
  },
  {
   "cell_type": "code",
   "execution_count": 26,
   "metadata": {},
   "outputs": [],
   "source": [
    "df_min = df_min.rename(columns={'feels_like': 'feels_like_min', 'temp_min': 'temp_min_min',\\\n",
    "                       'pressure': 'pressure_min', 'humidity': 'humidity_min', \\\n",
    "                       'wind_speed': 'wind_speed_min', 'clouds_all': 'clouds_all_min'})"
   ]
  },
  {
   "cell_type": "code",
   "execution_count": 27,
   "metadata": {},
   "outputs": [],
   "source": [
    "df_daily = pd.concat([df_mean, df_sum, df_min, df_max], axis=1)"
   ]
  },
  {
   "cell_type": "code",
   "execution_count": 28,
   "metadata": {},
   "outputs": [
    {
     "data": {
      "text/html": [
       "<div>\n",
       "<style scoped>\n",
       "    .dataframe tbody tr th:only-of-type {\n",
       "        vertical-align: middle;\n",
       "    }\n",
       "\n",
       "    .dataframe tbody tr th {\n",
       "        vertical-align: top;\n",
       "    }\n",
       "\n",
       "    .dataframe thead th {\n",
       "        text-align: right;\n",
       "    }\n",
       "</style>\n",
       "<table border=\"1\" class=\"dataframe\">\n",
       "  <thead>\n",
       "    <tr style=\"text-align: right;\">\n",
       "      <th></th>\n",
       "      <th>elevation_mean</th>\n",
       "      <th>azimuth_mean</th>\n",
       "      <th>temp_mean</th>\n",
       "      <th>feels_like_mean</th>\n",
       "      <th>temp_min_mean</th>\n",
       "      <th>temp_max_mean</th>\n",
       "      <th>pressure_mean</th>\n",
       "      <th>humidity_mean</th>\n",
       "      <th>wind_speed_mean</th>\n",
       "      <th>wind_deg_mean</th>\n",
       "      <th>rain_1h_mean</th>\n",
       "      <th>rain_3h_mean</th>\n",
       "      <th>clouds_all_mean</th>\n",
       "      <th>power_mean</th>\n",
       "      <th>energy_mean</th>\n",
       "      <th>rain_1h_sum</th>\n",
       "      <th>power_sum</th>\n",
       "      <th>energy_sum</th>\n",
       "      <th>feels_like_min</th>\n",
       "      <th>temp_min_min</th>\n",
       "      <th>pressure_min</th>\n",
       "      <th>humidity_min</th>\n",
       "      <th>wind_speed_min</th>\n",
       "      <th>clouds_all_min</th>\n",
       "      <th>elevation_max</th>\n",
       "      <th>azimuth_max</th>\n",
       "      <th>feels_like_max</th>\n",
       "      <th>temp_max_max</th>\n",
       "      <th>pressure_max</th>\n",
       "      <th>humidity_max</th>\n",
       "      <th>wind_speed_max</th>\n",
       "      <th>clouds_all_max</th>\n",
       "    </tr>\n",
       "    <tr>\n",
       "      <th>date_time</th>\n",
       "      <th></th>\n",
       "      <th></th>\n",
       "      <th></th>\n",
       "      <th></th>\n",
       "      <th></th>\n",
       "      <th></th>\n",
       "      <th></th>\n",
       "      <th></th>\n",
       "      <th></th>\n",
       "      <th></th>\n",
       "      <th></th>\n",
       "      <th></th>\n",
       "      <th></th>\n",
       "      <th></th>\n",
       "      <th></th>\n",
       "      <th></th>\n",
       "      <th></th>\n",
       "      <th></th>\n",
       "      <th></th>\n",
       "      <th></th>\n",
       "      <th></th>\n",
       "      <th></th>\n",
       "      <th></th>\n",
       "      <th></th>\n",
       "      <th></th>\n",
       "      <th></th>\n",
       "      <th></th>\n",
       "      <th></th>\n",
       "      <th></th>\n",
       "      <th></th>\n",
       "      <th></th>\n",
       "      <th></th>\n",
       "    </tr>\n",
       "  </thead>\n",
       "  <tbody>\n",
       "    <tr>\n",
       "      <th>2019-12-15</th>\n",
       "      <td>14.451250</td>\n",
       "      <td>112.981250</td>\n",
       "      <td>62.101875</td>\n",
       "      <td>59.520625</td>\n",
       "      <td>59.478125</td>\n",
       "      <td>65.624375</td>\n",
       "      <td>1006.187500</td>\n",
       "      <td>75.250000</td>\n",
       "      <td>6.410625</td>\n",
       "      <td>115.500000</td>\n",
       "      <td>0.015625</td>\n",
       "      <td>0.0</td>\n",
       "      <td>28.812500</td>\n",
       "      <td>4176.437500</td>\n",
       "      <td>1043.937500</td>\n",
       "      <td>0.25</td>\n",
       "      <td>66823.0</td>\n",
       "      <td>16703.0</td>\n",
       "      <td>45.86</td>\n",
       "      <td>50.00</td>\n",
       "      <td>1004</td>\n",
       "      <td>44</td>\n",
       "      <td>3.36</td>\n",
       "      <td>1</td>\n",
       "      <td>35.93</td>\n",
       "      <td>239.05</td>\n",
       "      <td>76.71</td>\n",
       "      <td>81.16</td>\n",
       "      <td>1009</td>\n",
       "      <td>93</td>\n",
       "      <td>11.68</td>\n",
       "      <td>90</td>\n",
       "    </tr>\n",
       "    <tr>\n",
       "      <th>2019-12-16</th>\n",
       "      <td>9.619583</td>\n",
       "      <td>75.278333</td>\n",
       "      <td>57.261250</td>\n",
       "      <td>53.526250</td>\n",
       "      <td>53.525417</td>\n",
       "      <td>61.252083</td>\n",
       "      <td>1010.250000</td>\n",
       "      <td>73.875000</td>\n",
       "      <td>7.102917</td>\n",
       "      <td>204.583333</td>\n",
       "      <td>0.048750</td>\n",
       "      <td>0.0</td>\n",
       "      <td>59.500000</td>\n",
       "      <td>0.000000</td>\n",
       "      <td>0.000000</td>\n",
       "      <td>1.17</td>\n",
       "      <td>0.0</td>\n",
       "      <td>0.0</td>\n",
       "      <td>33.24</td>\n",
       "      <td>39.99</td>\n",
       "      <td>1004</td>\n",
       "      <td>50</td>\n",
       "      <td>3.36</td>\n",
       "      <td>1</td>\n",
       "      <td>35.87</td>\n",
       "      <td>238.95</td>\n",
       "      <td>70.81</td>\n",
       "      <td>75.20</td>\n",
       "      <td>1017</td>\n",
       "      <td>93</td>\n",
       "      <td>13.87</td>\n",
       "      <td>100</td>\n",
       "    </tr>\n",
       "    <tr>\n",
       "      <th>2019-12-17</th>\n",
       "      <td>9.607500</td>\n",
       "      <td>75.236667</td>\n",
       "      <td>41.207917</td>\n",
       "      <td>30.841667</td>\n",
       "      <td>38.852083</td>\n",
       "      <td>44.054167</td>\n",
       "      <td>1024.208333</td>\n",
       "      <td>52.666667</td>\n",
       "      <td>10.241667</td>\n",
       "      <td>266.625000</td>\n",
       "      <td>0.000000</td>\n",
       "      <td>0.0</td>\n",
       "      <td>7.916667</td>\n",
       "      <td>6863.666667</td>\n",
       "      <td>1715.916667</td>\n",
       "      <td>0.00</td>\n",
       "      <td>164728.0</td>\n",
       "      <td>41182.0</td>\n",
       "      <td>21.25</td>\n",
       "      <td>30.00</td>\n",
       "      <td>1017</td>\n",
       "      <td>20</td>\n",
       "      <td>6.93</td>\n",
       "      <td>1</td>\n",
       "      <td>35.82</td>\n",
       "      <td>238.85</td>\n",
       "      <td>40.60</td>\n",
       "      <td>55.04</td>\n",
       "      <td>1029</td>\n",
       "      <td>71</td>\n",
       "      <td>16.11</td>\n",
       "      <td>90</td>\n",
       "    </tr>\n",
       "  </tbody>\n",
       "</table>\n",
       "</div>"
      ],
      "text/plain": [
       "            elevation_mean  azimuth_mean  temp_mean  feels_like_mean  \\\n",
       "date_time                                                              \n",
       "2019-12-15       14.451250    112.981250  62.101875        59.520625   \n",
       "2019-12-16        9.619583     75.278333  57.261250        53.526250   \n",
       "2019-12-17        9.607500     75.236667  41.207917        30.841667   \n",
       "\n",
       "            temp_min_mean  temp_max_mean  pressure_mean  humidity_mean  \\\n",
       "date_time                                                                \n",
       "2019-12-15      59.478125      65.624375    1006.187500      75.250000   \n",
       "2019-12-16      53.525417      61.252083    1010.250000      73.875000   \n",
       "2019-12-17      38.852083      44.054167    1024.208333      52.666667   \n",
       "\n",
       "            wind_speed_mean  wind_deg_mean  rain_1h_mean  rain_3h_mean  \\\n",
       "date_time                                                                \n",
       "2019-12-15         6.410625     115.500000      0.015625           0.0   \n",
       "2019-12-16         7.102917     204.583333      0.048750           0.0   \n",
       "2019-12-17        10.241667     266.625000      0.000000           0.0   \n",
       "\n",
       "            clouds_all_mean   power_mean  energy_mean  rain_1h_sum  power_sum  \\\n",
       "date_time                                                                       \n",
       "2019-12-15        28.812500  4176.437500  1043.937500         0.25    66823.0   \n",
       "2019-12-16        59.500000     0.000000     0.000000         1.17        0.0   \n",
       "2019-12-17         7.916667  6863.666667  1715.916667         0.00   164728.0   \n",
       "\n",
       "            energy_sum  feels_like_min  temp_min_min  pressure_min  \\\n",
       "date_time                                                            \n",
       "2019-12-15     16703.0           45.86         50.00          1004   \n",
       "2019-12-16         0.0           33.24         39.99          1004   \n",
       "2019-12-17     41182.0           21.25         30.00          1017   \n",
       "\n",
       "            humidity_min  wind_speed_min  clouds_all_min  elevation_max  \\\n",
       "date_time                                                                 \n",
       "2019-12-15            44            3.36               1          35.93   \n",
       "2019-12-16            50            3.36               1          35.87   \n",
       "2019-12-17            20            6.93               1          35.82   \n",
       "\n",
       "            azimuth_max  feels_like_max  temp_max_max  pressure_max  \\\n",
       "date_time                                                             \n",
       "2019-12-15       239.05           76.71         81.16          1009   \n",
       "2019-12-16       238.95           70.81         75.20          1017   \n",
       "2019-12-17       238.85           40.60         55.04          1029   \n",
       "\n",
       "            humidity_max  wind_speed_max  clouds_all_max  \n",
       "date_time                                                 \n",
       "2019-12-15            93           11.68              90  \n",
       "2019-12-16            93           13.87             100  \n",
       "2019-12-17            71           16.11              90  "
      ]
     },
     "execution_count": 28,
     "metadata": {},
     "output_type": "execute_result"
    }
   ],
   "source": [
    "df_daily.head(3)"
   ]
  },
  {
   "cell_type": "code",
   "execution_count": 29,
   "metadata": {},
   "outputs": [
    {
     "data": {
      "text/plain": [
       "Index(['elevation_mean', 'azimuth_mean', 'temp_mean', 'feels_like_mean',\n",
       "       'temp_min_mean', 'temp_max_mean', 'pressure_mean', 'humidity_mean',\n",
       "       'wind_speed_mean', 'wind_deg_mean', 'rain_1h_mean', 'rain_3h_mean',\n",
       "       'clouds_all_mean', 'power_mean', 'energy_mean', 'rain_1h_sum',\n",
       "       'power_sum', 'energy_sum', 'feels_like_min', 'temp_min_min',\n",
       "       'pressure_min', 'humidity_min', 'wind_speed_min', 'clouds_all_min',\n",
       "       'elevation_max', 'azimuth_max', 'feels_like_max', 'temp_max_max',\n",
       "       'pressure_max', 'humidity_max', 'wind_speed_max', 'clouds_all_max'],\n",
       "      dtype='object')"
      ]
     },
     "execution_count": 29,
     "metadata": {},
     "output_type": "execute_result"
    }
   ],
   "source": [
    "df_daily.columns"
   ]
  },
  {
   "cell_type": "markdown",
   "metadata": {},
   "source": [
    "# Selecting Features & Target (Labels)"
   ]
  },
  {
   "cell_type": "code",
   "execution_count": 30,
   "metadata": {},
   "outputs": [],
   "source": [
    "X = df_daily[['elevation_mean', 'azimuth_mean', 'temp_mean', 'feels_like_mean',\n",
    "        'pressure_mean', 'humidity_mean','wind_speed_mean', 'wind_deg_mean',\n",
    "        'clouds_all_mean', 'rain_1h_sum','temp_min_min', 'elevation_max', 'temp_max_max',\n",
    "        ]]\n",
    "y = df_daily['energy_sum']"
   ]
  },
  {
   "cell_type": "markdown",
   "metadata": {},
   "source": [
    "# Correlation Map for Energy Production"
   ]
  },
  {
   "cell_type": "code",
   "execution_count": 31,
   "metadata": {},
   "outputs": [],
   "source": [
    "corr_energy = X.corrwith(y).sort_values(ascending=False).to_frame()"
   ]
  },
  {
   "cell_type": "code",
   "execution_count": 32,
   "metadata": {},
   "outputs": [
    {
     "data": {
      "text/plain": [
       "<matplotlib.axes._subplots.AxesSubplot at 0x278654759c8>"
      ]
     },
     "execution_count": 32,
     "metadata": {},
     "output_type": "execute_result"
    },
    {
     "data": {
      "image/png": "[encoded data removed]",
      "text/plain": [
       "<Figure size 576x720 with 2 Axes>"
      ]
     },
     "metadata": {
      "needs_background": "light"
     },
     "output_type": "display_data"
    }
   ],
   "source": [
    "plt.figure(figsize=(8, 10))\n",
    "sns.heatmap(corr_energy, cmap='coolwarm', annot=True)"
   ]
  },
  {
   "cell_type": "code",
   "execution_count": 33,
   "metadata": {},
   "outputs": [],
   "source": [
    "solar_daily = solar_daily.drop([0, 1, 2, 3, 156])"
   ]
  },
  {
   "cell_type": "code",
   "execution_count": 34,
   "metadata": {},
   "outputs": [],
   "source": [
    "solar_daily['Date/Time'] = solar_daily['Date/Time'].map(lambda x: x[:11])"
   ]
  },
  {
   "cell_type": "code",
   "execution_count": 35,
   "metadata": {},
   "outputs": [],
   "source": [
    "solar_daily['Date/time'] = pd.to_datetime(solar_daily['Date/Time'])"
   ]
  },
  {
   "cell_type": "code",
   "execution_count": 36,
   "metadata": {},
   "outputs": [],
   "source": [
    "solar_daily = solar_daily.set_index(solar_daily['Date/Time'])"
   ]
  },
  {
   "cell_type": "code",
   "execution_count": 37,
   "metadata": {},
   "outputs": [],
   "source": [
    "y_consumption = solar_daily['Energy Consumed (Wh)']"
   ]
  },
  {
   "cell_type": "code",
   "execution_count": 38,
   "metadata": {},
   "outputs": [
    {
     "data": {
      "text/plain": [
       "(152,)"
      ]
     },
     "execution_count": 38,
     "metadata": {},
     "output_type": "execute_result"
    }
   ],
   "source": [
    "y_consumption.shape"
   ]
  },
  {
   "cell_type": "code",
   "execution_count": 39,
   "metadata": {},
   "outputs": [],
   "source": [
    "X_consumption = X.drop(pd.Timestamp('2019-12-15'))"
   ]
  },
  {
   "cell_type": "code",
   "execution_count": 40,
   "metadata": {},
   "outputs": [],
   "source": [
    "X_consumption = X_consumption.drop(pd.Timestamp('2019-12-16'))"
   ]
  },
  {
   "cell_type": "code",
   "execution_count": 41,
   "metadata": {},
   "outputs": [],
   "source": [
    "X_consumption = X_consumption.drop(pd.Timestamp('2020-05-17'))"
   ]
  },
  {
   "cell_type": "code",
   "execution_count": 42,
   "metadata": {},
   "outputs": [
    {
     "data": {
      "text/plain": [
       "(152, 13)"
      ]
     },
     "execution_count": 42,
     "metadata": {},
     "output_type": "execute_result"
    }
   ],
   "source": [
    "X_consumption.shape"
   ]
  },
  {
   "cell_type": "code",
   "execution_count": 43,
   "metadata": {},
   "outputs": [
    {
     "data": {
      "text/plain": [
       "Date/Time\n",
       "2019-12-17     17798\n",
       "2019-12-18     15837\n",
       "2019-12-19     15174\n",
       "2019-12-20     20917\n",
       "2019-12-21     15187\n",
       "               ...  \n",
       "2020-05-12     17542\n",
       "2020-05-13     24948\n",
       "2020-05-14     39588\n",
       "2020-05-15     34723\n",
       "2020-05-16     22731\n",
       "Name: Energy Consumed (Wh), Length: 152, dtype: int64"
      ]
     },
     "execution_count": 43,
     "metadata": {},
     "output_type": "execute_result"
    }
   ],
   "source": [
    "y_consumption"
   ]
  },
  {
   "cell_type": "code",
   "execution_count": 44,
   "metadata": {},
   "outputs": [],
   "source": [
    "corr_consumption = X_consumption.corrwith(y_consumption).sort_values(ascending=False).to_frame()"
   ]
  },
  {
   "cell_type": "code",
   "execution_count": 45,
   "metadata": {},
   "outputs": [
    {
     "data": {
      "text/html": [
       "<div>\n",
       "<style scoped>\n",
       "    .dataframe tbody tr th:only-of-type {\n",
       "        vertical-align: middle;\n",
       "    }\n",
       "\n",
       "    .dataframe tbody tr th {\n",
       "        vertical-align: top;\n",
       "    }\n",
       "\n",
       "    .dataframe thead th {\n",
       "        text-align: right;\n",
       "    }\n",
       "</style>\n",
       "<table border=\"1\" class=\"dataframe\">\n",
       "  <thead>\n",
       "    <tr style=\"text-align: right;\">\n",
       "      <th></th>\n",
       "      <th>0</th>\n",
       "    </tr>\n",
       "  </thead>\n",
       "  <tbody>\n",
       "    <tr>\n",
       "      <th>azimuth_mean</th>\n",
       "      <td>0.563477</td>\n",
       "    </tr>\n",
       "    <tr>\n",
       "      <th>elevation_mean</th>\n",
       "      <td>0.540330</td>\n",
       "    </tr>\n",
       "    <tr>\n",
       "      <th>elevation_max</th>\n",
       "      <td>0.539783</td>\n",
       "    </tr>\n",
       "    <tr>\n",
       "      <th>temp_max_max</th>\n",
       "      <td>0.388355</td>\n",
       "    </tr>\n",
       "    <tr>\n",
       "      <th>temp_mean</th>\n",
       "      <td>0.370974</td>\n",
       "    </tr>\n",
       "    <tr>\n",
       "      <th>feels_like_mean</th>\n",
       "      <td>0.345244</td>\n",
       "    </tr>\n",
       "    <tr>\n",
       "      <th>temp_min_min</th>\n",
       "      <td>0.333264</td>\n",
       "    </tr>\n",
       "    <tr>\n",
       "      <th>wind_speed_mean</th>\n",
       "      <td>0.170463</td>\n",
       "    </tr>\n",
       "    <tr>\n",
       "      <th>rain_1h_sum</th>\n",
       "      <td>-0.017801</td>\n",
       "    </tr>\n",
       "    <tr>\n",
       "      <th>clouds_all_mean</th>\n",
       "      <td>-0.078841</td>\n",
       "    </tr>\n",
       "    <tr>\n",
       "      <th>wind_deg_mean</th>\n",
       "      <td>-0.083201</td>\n",
       "    </tr>\n",
       "    <tr>\n",
       "      <th>humidity_mean</th>\n",
       "      <td>-0.132652</td>\n",
       "    </tr>\n",
       "    <tr>\n",
       "      <th>pressure_mean</th>\n",
       "      <td>-0.205077</td>\n",
       "    </tr>\n",
       "  </tbody>\n",
       "</table>\n",
       "</div>"
      ],
      "text/plain": [
       "                        0\n",
       "azimuth_mean     0.563477\n",
       "elevation_mean   0.540330\n",
       "elevation_max    0.539783\n",
       "temp_max_max     0.388355\n",
       "temp_mean        0.370974\n",
       "feels_like_mean  0.345244\n",
       "temp_min_min     0.333264\n",
       "wind_speed_mean  0.170463\n",
       "rain_1h_sum     -0.017801\n",
       "clouds_all_mean -0.078841\n",
       "wind_deg_mean   -0.083201\n",
       "humidity_mean   -0.132652\n",
       "pressure_mean   -0.205077"
      ]
     },
     "execution_count": 45,
     "metadata": {},
     "output_type": "execute_result"
    }
   ],
   "source": [
    "corr_consumption"
   ]
  },
  {
   "cell_type": "markdown",
   "metadata": {},
   "source": [
    "# Correlation Map for Consumption"
   ]
  },
  {
   "cell_type": "code",
   "execution_count": 46,
   "metadata": {},
   "outputs": [
    {
     "data": {
      "text/plain": [
       "<matplotlib.axes._subplots.AxesSubplot at 0x278663b1d48>"
      ]
     },
     "execution_count": 46,
     "metadata": {},
     "output_type": "execute_result"
    },
    {
     "data": {
      "image/png": "[encoded data removed]",
      "text/plain": [
       "<Figure size 576x720 with 2 Axes>"
      ]
     },
     "metadata": {
      "needs_background": "light"
     },
     "output_type": "display_data"
    }
   ],
   "source": [
    "plt.figure(figsize=(8, 10))\n",
    "sns.heatmap(corr_consumption, cmap='coolwarm', annot=True)"
   ]
  },
  {
   "cell_type": "code",
   "execution_count": 47,
   "metadata": {},
   "outputs": [
    {
     "data": {
      "text/html": [
       "<div>\n",
       "<style scoped>\n",
       "    .dataframe tbody tr th:only-of-type {\n",
       "        vertical-align: middle;\n",
       "    }\n",
       "\n",
       "    .dataframe tbody tr th {\n",
       "        vertical-align: top;\n",
       "    }\n",
       "\n",
       "    .dataframe thead th {\n",
       "        text-align: right;\n",
       "    }\n",
       "</style>\n",
       "<table border=\"1\" class=\"dataframe\">\n",
       "  <thead>\n",
       "    <tr style=\"text-align: right;\">\n",
       "      <th></th>\n",
       "      <th>elevation_mean</th>\n",
       "      <th>azimuth_mean</th>\n",
       "      <th>temp_mean</th>\n",
       "      <th>feels_like_mean</th>\n",
       "      <th>pressure_mean</th>\n",
       "      <th>humidity_mean</th>\n",
       "      <th>wind_speed_mean</th>\n",
       "      <th>wind_deg_mean</th>\n",
       "      <th>clouds_all_mean</th>\n",
       "      <th>rain_1h_sum</th>\n",
       "      <th>temp_min_min</th>\n",
       "      <th>elevation_max</th>\n",
       "      <th>temp_max_max</th>\n",
       "    </tr>\n",
       "    <tr>\n",
       "      <th>date_time</th>\n",
       "      <th></th>\n",
       "      <th></th>\n",
       "      <th></th>\n",
       "      <th></th>\n",
       "      <th></th>\n",
       "      <th></th>\n",
       "      <th></th>\n",
       "      <th></th>\n",
       "      <th></th>\n",
       "      <th></th>\n",
       "      <th></th>\n",
       "      <th></th>\n",
       "      <th></th>\n",
       "    </tr>\n",
       "  </thead>\n",
       "  <tbody>\n",
       "    <tr>\n",
       "      <th>2019-12-15</th>\n",
       "      <td>14.451250</td>\n",
       "      <td>112.981250</td>\n",
       "      <td>62.101875</td>\n",
       "      <td>59.520625</td>\n",
       "      <td>1006.187500</td>\n",
       "      <td>75.250000</td>\n",
       "      <td>6.410625</td>\n",
       "      <td>115.500000</td>\n",
       "      <td>28.812500</td>\n",
       "      <td>0.25</td>\n",
       "      <td>50.00</td>\n",
       "      <td>35.93</td>\n",
       "      <td>81.16</td>\n",
       "    </tr>\n",
       "    <tr>\n",
       "      <th>2019-12-16</th>\n",
       "      <td>9.619583</td>\n",
       "      <td>75.278333</td>\n",
       "      <td>57.261250</td>\n",
       "      <td>53.526250</td>\n",
       "      <td>1010.250000</td>\n",
       "      <td>73.875000</td>\n",
       "      <td>7.102917</td>\n",
       "      <td>204.583333</td>\n",
       "      <td>59.500000</td>\n",
       "      <td>1.17</td>\n",
       "      <td>39.99</td>\n",
       "      <td>35.87</td>\n",
       "      <td>75.20</td>\n",
       "    </tr>\n",
       "    <tr>\n",
       "      <th>2019-12-17</th>\n",
       "      <td>9.607500</td>\n",
       "      <td>75.236667</td>\n",
       "      <td>41.207917</td>\n",
       "      <td>30.841667</td>\n",
       "      <td>1024.208333</td>\n",
       "      <td>52.666667</td>\n",
       "      <td>10.241667</td>\n",
       "      <td>266.625000</td>\n",
       "      <td>7.916667</td>\n",
       "      <td>0.00</td>\n",
       "      <td>30.00</td>\n",
       "      <td>35.82</td>\n",
       "      <td>55.04</td>\n",
       "    </tr>\n",
       "    <tr>\n",
       "      <th>2019-12-18</th>\n",
       "      <td>9.597917</td>\n",
       "      <td>75.194583</td>\n",
       "      <td>41.304583</td>\n",
       "      <td>33.247500</td>\n",
       "      <td>1029.750000</td>\n",
       "      <td>39.958333</td>\n",
       "      <td>4.888750</td>\n",
       "      <td>248.958333</td>\n",
       "      <td>1.000000</td>\n",
       "      <td>0.00</td>\n",
       "      <td>25.00</td>\n",
       "      <td>35.78</td>\n",
       "      <td>61.00</td>\n",
       "    </tr>\n",
       "    <tr>\n",
       "      <th>2019-12-19</th>\n",
       "      <td>9.590000</td>\n",
       "      <td>75.151667</td>\n",
       "      <td>41.941250</td>\n",
       "      <td>34.000833</td>\n",
       "      <td>1026.791667</td>\n",
       "      <td>47.666667</td>\n",
       "      <td>5.427083</td>\n",
       "      <td>176.625000</td>\n",
       "      <td>1.000000</td>\n",
       "      <td>0.00</td>\n",
       "      <td>24.01</td>\n",
       "      <td>35.74</td>\n",
       "      <td>59.00</td>\n",
       "    </tr>\n",
       "  </tbody>\n",
       "</table>\n",
       "</div>"
      ],
      "text/plain": [
       "            elevation_mean  azimuth_mean  temp_mean  feels_like_mean  \\\n",
       "date_time                                                              \n",
       "2019-12-15       14.451250    112.981250  62.101875        59.520625   \n",
       "2019-12-16        9.619583     75.278333  57.261250        53.526250   \n",
       "2019-12-17        9.607500     75.236667  41.207917        30.841667   \n",
       "2019-12-18        9.597917     75.194583  41.304583        33.247500   \n",
       "2019-12-19        9.590000     75.151667  41.941250        34.000833   \n",
       "\n",
       "            pressure_mean  humidity_mean  wind_speed_mean  wind_deg_mean  \\\n",
       "date_time                                                                  \n",
       "2019-12-15    1006.187500      75.250000         6.410625     115.500000   \n",
       "2019-12-16    1010.250000      73.875000         7.102917     204.583333   \n",
       "2019-12-17    1024.208333      52.666667        10.241667     266.625000   \n",
       "2019-12-18    1029.750000      39.958333         4.888750     248.958333   \n",
       "2019-12-19    1026.791667      47.666667         5.427083     176.625000   \n",
       "\n",
       "            clouds_all_mean  rain_1h_sum  temp_min_min  elevation_max  \\\n",
       "date_time                                                               \n",
       "2019-12-15        28.812500         0.25         50.00          35.93   \n",
       "2019-12-16        59.500000         1.17         39.99          35.87   \n",
       "2019-12-17         7.916667         0.00         30.00          35.82   \n",
       "2019-12-18         1.000000         0.00         25.00          35.78   \n",
       "2019-12-19         1.000000         0.00         24.01          35.74   \n",
       "\n",
       "            temp_max_max  \n",
       "date_time                 \n",
       "2019-12-15         81.16  \n",
       "2019-12-16         75.20  \n",
       "2019-12-17         55.04  \n",
       "2019-12-18         61.00  \n",
       "2019-12-19         59.00  "
      ]
     },
     "execution_count": 47,
     "metadata": {},
     "output_type": "execute_result"
    }
   ],
   "source": [
    "X.head()"
   ]
  },
  {
   "cell_type": "markdown",
   "metadata": {},
   "source": [
    "# Energy Production Linear Regression Model "
   ]
  },
  {
   "cell_type": "code",
   "execution_count": 48,
   "metadata": {},
   "outputs": [],
   "source": [
    "X_train, X_test, y_train, y_test = train_test_split(X, y)"
   ]
  },
  {
   "cell_type": "code",
   "execution_count": 49,
   "metadata": {},
   "outputs": [],
   "source": [
    "linreg_pro = LinearRegression()"
   ]
  },
  {
   "cell_type": "code",
   "execution_count": 50,
   "metadata": {},
   "outputs": [
    {
     "data": {
      "text/plain": [
       "LinearRegression(copy_X=True, fit_intercept=True, n_jobs=None, normalize=False)"
      ]
     },
     "execution_count": 50,
     "metadata": {},
     "output_type": "execute_result"
    }
   ],
   "source": [
    "linreg_pro.fit(X_train, y_train)"
   ]
  },
  {
   "cell_type": "code",
   "execution_count": 51,
   "metadata": {},
   "outputs": [
    {
     "data": {
      "text/plain": [
       "0.7098403141048727"
      ]
     },
     "execution_count": 51,
     "metadata": {},
     "output_type": "execute_result"
    }
   ],
   "source": [
    "linreg_pro.score(X_train, y_train)"
   ]
  },
  {
   "cell_type": "code",
   "execution_count": 52,
   "metadata": {},
   "outputs": [
    {
     "data": {
      "text/plain": [
       "0.7317420866771344"
      ]
     },
     "execution_count": 52,
     "metadata": {},
     "output_type": "execute_result"
    }
   ],
   "source": [
    "linreg_pro.score(X_test, y_test)"
   ]
  },
  {
   "cell_type": "code",
   "execution_count": 53,
   "metadata": {},
   "outputs": [
    {
     "data": {
      "text/plain": [
       "array([ 0.59462974,  0.80788869,  0.53515581, -0.17948809,  0.5036791 ])"
      ]
     },
     "execution_count": 53,
     "metadata": {},
     "output_type": "execute_result"
    }
   ],
   "source": [
    "cross_val_score(linreg_pro, X_train, y_train)"
   ]
  },
  {
   "cell_type": "markdown",
   "metadata": {},
   "source": [
    "# Production Regression with Regularization - Lasso"
   ]
  },
  {
   "cell_type": "code",
   "execution_count": 135,
   "metadata": {},
   "outputs": [],
   "source": [
    "ss = StandardScaler()\n",
    "X_train_ss = ss.fit_transform(X_train)\n",
    "X_test_ss = ss.transform(X_test)"
   ]
  },
  {
   "cell_type": "code",
   "execution_count": 120,
   "metadata": {},
   "outputs": [],
   "source": [
    "l_alphas = np.logspace(0, 5, 100)"
   ]
  },
  {
   "cell_type": "code",
   "execution_count": 137,
   "metadata": {},
   "outputs": [],
   "source": [
    "lasso_pro = LassoCV(alphas=l_alphas,\n",
    "                   cv=5,\n",
    "                   max_iter=50_000)"
   ]
  },
  {
   "cell_type": "code",
   "execution_count": 138,
   "metadata": {},
   "outputs": [
    {
     "data": {
      "text/plain": [
       "LassoCV(alphas=array([1.00000000e+00, 1.12332403e+00, 1.26185688e+00, 1.41747416e+00,\n",
       "       1.59228279e+00, 1.78864953e+00, 2.00923300e+00, 2.25701972e+00,\n",
       "       2.53536449e+00, 2.84803587e+00, 3.19926714e+00, 3.59381366e+00,\n",
       "       4.03701726e+00, 4.53487851e+00, 5.09413801e+00, 5.72236766e+00,\n",
       "       6.42807312e+00, 7.22080902e+00, 8.11130831e+00, 9.11162756e+00,\n",
       "       1.02353102e+01, 1.14975700e+0...\n",
       "       2.78255940e+04, 3.12571585e+04, 3.51119173e+04, 3.94420606e+04,\n",
       "       4.43062146e+04, 4.97702356e+04, 5.59081018e+04, 6.28029144e+04,\n",
       "       7.05480231e+04, 7.92482898e+04, 8.90215085e+04, 1.00000000e+05]),\n",
       "        copy_X=True, cv=5, eps=0.001, fit_intercept=True, max_iter=50000,\n",
       "        n_alphas=100, n_jobs=None, normalize=False, positive=False,\n",
       "        precompute='auto', random_state=None, selection='cyclic', tol=0.0001,\n",
       "        verbose=False)"
      ]
     },
     "execution_count": 138,
     "metadata": {},
     "output_type": "execute_result"
    }
   ],
   "source": [
    "lasso_pro.fit(X_train_ss, y_train)"
   ]
  },
  {
   "cell_type": "code",
   "execution_count": 139,
   "metadata": {},
   "outputs": [
    {
     "data": {
      "text/plain": [
       "335.1602650938841"
      ]
     },
     "execution_count": 139,
     "metadata": {},
     "output_type": "execute_result"
    }
   ],
   "source": [
    "lasso_pro.alpha_"
   ]
  },
  {
   "cell_type": "code",
   "execution_count": 142,
   "metadata": {},
   "outputs": [
    {
     "data": {
      "text/plain": [
       "0.46067949481183323"
      ]
     },
     "execution_count": 142,
     "metadata": {},
     "output_type": "execute_result"
    }
   ],
   "source": [
    "cross_val_score(lasso_pro, X_train_ss, y_train).mean()"
   ]
  },
  {
   "cell_type": "code",
   "execution_count": 143,
   "metadata": {},
   "outputs": [
    {
     "data": {
      "text/plain": [
       "0.774801491455641"
      ]
     },
     "execution_count": 143,
     "metadata": {},
     "output_type": "execute_result"
    }
   ],
   "source": [
    "cross_val_score(lasso_pro, X_test_ss, y_test).mean()"
   ]
  },
  {
   "cell_type": "markdown",
   "metadata": {},
   "source": [
    "### Lasso did not provide considerable R2 score improvement"
   ]
  },
  {
   "cell_type": "markdown",
   "metadata": {},
   "source": [
    "# Energy Consumption Linear Regression Model"
   ]
  },
  {
   "cell_type": "code",
   "execution_count": 55,
   "metadata": {},
   "outputs": [],
   "source": [
    "X_con_train, X_con_test, y_con_train, y_con_test = train_test_split(X_consumption, y_consumption)"
   ]
  },
  {
   "cell_type": "code",
   "execution_count": 56,
   "metadata": {},
   "outputs": [],
   "source": [
    "linreg_con = LinearRegression()"
   ]
  },
  {
   "cell_type": "code",
   "execution_count": 57,
   "metadata": {},
   "outputs": [
    {
     "data": {
      "text/plain": [
       "LinearRegression(copy_X=True, fit_intercept=True, n_jobs=None, normalize=False)"
      ]
     },
     "execution_count": 57,
     "metadata": {},
     "output_type": "execute_result"
    }
   ],
   "source": [
    "linreg_con.fit(X_con_train, y_con_train)"
   ]
  },
  {
   "cell_type": "code",
   "execution_count": 58,
   "metadata": {},
   "outputs": [
    {
     "data": {
      "text/plain": [
       "0.43161940145632965"
      ]
     },
     "execution_count": 58,
     "metadata": {},
     "output_type": "execute_result"
    }
   ],
   "source": [
    "linreg_con.score(X_con_train, y_con_train)"
   ]
  },
  {
   "cell_type": "code",
   "execution_count": 59,
   "metadata": {},
   "outputs": [
    {
     "data": {
      "text/plain": [
       "0.46213921406878133"
      ]
     },
     "execution_count": 59,
     "metadata": {},
     "output_type": "execute_result"
    }
   ],
   "source": [
    "linreg_con.score(X_con_test, y_con_test)"
   ]
  },
  {
   "cell_type": "code",
   "execution_count": 60,
   "metadata": {},
   "outputs": [
    {
     "data": {
      "text/plain": [
       "array([ 0.20369911,  0.47204812, -0.65310537,  0.26735162,  0.43267544])"
      ]
     },
     "execution_count": 60,
     "metadata": {},
     "output_type": "execute_result"
    }
   ],
   "source": [
    "cross_val_score(linreg_con, X_con_train, y_con_train)"
   ]
  },
  {
   "cell_type": "markdown",
   "metadata": {},
   "source": [
    "# Linear Regression Regularization"
   ]
  },
  {
   "cell_type": "code",
   "execution_count": 103,
   "metadata": {},
   "outputs": [],
   "source": [
    "ridge_cv = RidgeCV(alphas = r_alphas,\n",
    "                  scoring='r2',\n",
    "                  cv=5)"
   ]
  },
  {
   "cell_type": "code",
   "execution_count": null,
   "metadata": {},
   "outputs": [],
   "source": [
    "ridge_cv.fit(X)"
   ]
  },
  {
   "cell_type": "code",
   "execution_count": null,
   "metadata": {},
   "outputs": [],
   "source": []
  },
  {
   "cell_type": "code",
   "execution_count": null,
   "metadata": {},
   "outputs": [],
   "source": []
  },
  {
   "cell_type": "markdown",
   "metadata": {},
   "source": [
    "# Data Import for Prediction"
   ]
  },
  {
   "cell_type": "code",
   "execution_count": 61,
   "metadata": {},
   "outputs": [],
   "source": [
    "df = pd.read_csv('./dataset/weather-sun-pred.csv')"
   ]
  },
  {
   "cell_type": "code",
   "execution_count": 62,
   "metadata": {},
   "outputs": [
    {
     "data": {
      "text/html": [
       "<div>\n",
       "<style scoped>\n",
       "    .dataframe tbody tr th:only-of-type {\n",
       "        vertical-align: middle;\n",
       "    }\n",
       "\n",
       "    .dataframe tbody tr th {\n",
       "        vertical-align: top;\n",
       "    }\n",
       "\n",
       "    .dataframe thead th {\n",
       "        text-align: right;\n",
       "    }\n",
       "</style>\n",
       "<table border=\"1\" class=\"dataframe\">\n",
       "  <thead>\n",
       "    <tr style=\"text-align: right;\">\n",
       "      <th></th>\n",
       "      <th>Unnamed: 0</th>\n",
       "      <th>date_time</th>\n",
       "      <th>elevation</th>\n",
       "      <th>azimuth</th>\n",
       "      <th>dt_iso</th>\n",
       "      <th>temp</th>\n",
       "      <th>feels_like</th>\n",
       "      <th>temp_min</th>\n",
       "      <th>temp_max</th>\n",
       "      <th>pressure</th>\n",
       "      <th>humidity</th>\n",
       "      <th>wind_speed</th>\n",
       "      <th>wind_deg</th>\n",
       "      <th>rain_1h</th>\n",
       "      <th>rain_3h</th>\n",
       "      <th>clouds_all</th>\n",
       "    </tr>\n",
       "  </thead>\n",
       "  <tbody>\n",
       "    <tr>\n",
       "      <th>0</th>\n",
       "      <td>0</td>\n",
       "      <td>2020-05-23 00:00:00</td>\n",
       "      <td>0.0</td>\n",
       "      <td>0.0</td>\n",
       "      <td>2019-05-23 00:00:00 +0000 UTC</td>\n",
       "      <td>86.43</td>\n",
       "      <td>87.44</td>\n",
       "      <td>84.2</td>\n",
       "      <td>89.01</td>\n",
       "      <td>1006</td>\n",
       "      <td>55</td>\n",
       "      <td>10.29</td>\n",
       "      <td>170</td>\n",
       "      <td>0.0</td>\n",
       "      <td>0.0</td>\n",
       "      <td>1</td>\n",
       "    </tr>\n",
       "    <tr>\n",
       "      <th>1</th>\n",
       "      <td>1</td>\n",
       "      <td>2020-05-23 01:00:00</td>\n",
       "      <td>0.0</td>\n",
       "      <td>0.0</td>\n",
       "      <td>2019-05-23 01:00:00 +0000 UTC</td>\n",
       "      <td>84.36</td>\n",
       "      <td>85.91</td>\n",
       "      <td>82.4</td>\n",
       "      <td>86.00</td>\n",
       "      <td>1006</td>\n",
       "      <td>61</td>\n",
       "      <td>10.29</td>\n",
       "      <td>160</td>\n",
       "      <td>0.0</td>\n",
       "      <td>0.0</td>\n",
       "      <td>1</td>\n",
       "    </tr>\n",
       "    <tr>\n",
       "      <th>2</th>\n",
       "      <td>2</td>\n",
       "      <td>2020-05-23 02:00:00</td>\n",
       "      <td>0.0</td>\n",
       "      <td>0.0</td>\n",
       "      <td>2019-05-23 02:00:00 +0000 UTC</td>\n",
       "      <td>82.49</td>\n",
       "      <td>86.86</td>\n",
       "      <td>81.0</td>\n",
       "      <td>84.48</td>\n",
       "      <td>1007</td>\n",
       "      <td>69</td>\n",
       "      <td>6.93</td>\n",
       "      <td>160</td>\n",
       "      <td>0.0</td>\n",
       "      <td>0.0</td>\n",
       "      <td>1</td>\n",
       "    </tr>\n",
       "  </tbody>\n",
       "</table>\n",
       "</div>"
      ],
      "text/plain": [
       "   Unnamed: 0            date_time  elevation  azimuth  \\\n",
       "0           0  2020-05-23 00:00:00        0.0      0.0   \n",
       "1           1  2020-05-23 01:00:00        0.0      0.0   \n",
       "2           2  2020-05-23 02:00:00        0.0      0.0   \n",
       "\n",
       "                          dt_iso   temp  feels_like  temp_min  temp_max  \\\n",
       "0  2019-05-23 00:00:00 +0000 UTC  86.43       87.44      84.2     89.01   \n",
       "1  2019-05-23 01:00:00 +0000 UTC  84.36       85.91      82.4     86.00   \n",
       "2  2019-05-23 02:00:00 +0000 UTC  82.49       86.86      81.0     84.48   \n",
       "\n",
       "   pressure  humidity  wind_speed  wind_deg  rain_1h  rain_3h  clouds_all  \n",
       "0      1006        55       10.29       170      0.0      0.0           1  \n",
       "1      1006        61       10.29       160      0.0      0.0           1  \n",
       "2      1007        69        6.93       160      0.0      0.0           1  "
      ]
     },
     "execution_count": 62,
     "metadata": {},
     "output_type": "execute_result"
    }
   ],
   "source": [
    "df.head(3)"
   ]
  },
  {
   "cell_type": "code",
   "execution_count": 63,
   "metadata": {},
   "outputs": [],
   "source": [
    "df.drop(columns=['Unnamed: 0', 'dt_iso'], inplace=True)"
   ]
  },
  {
   "cell_type": "code",
   "execution_count": 64,
   "metadata": {},
   "outputs": [],
   "source": [
    "df['date_time'] = pd.to_datetime(df['date_time'])\n",
    "\n",
    "df.set_index(df['date_time'], drop=True, inplace=True)"
   ]
  },
  {
   "cell_type": "code",
   "execution_count": 65,
   "metadata": {},
   "outputs": [
    {
     "data": {
      "text/html": [
       "<div>\n",
       "<style scoped>\n",
       "    .dataframe tbody tr th:only-of-type {\n",
       "        vertical-align: middle;\n",
       "    }\n",
       "\n",
       "    .dataframe tbody tr th {\n",
       "        vertical-align: top;\n",
       "    }\n",
       "\n",
       "    .dataframe thead th {\n",
       "        text-align: right;\n",
       "    }\n",
       "</style>\n",
       "<table border=\"1\" class=\"dataframe\">\n",
       "  <thead>\n",
       "    <tr style=\"text-align: right;\">\n",
       "      <th></th>\n",
       "      <th>date_time</th>\n",
       "      <th>elevation</th>\n",
       "      <th>azimuth</th>\n",
       "      <th>temp</th>\n",
       "      <th>feels_like</th>\n",
       "      <th>temp_min</th>\n",
       "      <th>temp_max</th>\n",
       "      <th>pressure</th>\n",
       "      <th>humidity</th>\n",
       "      <th>wind_speed</th>\n",
       "      <th>wind_deg</th>\n",
       "      <th>rain_1h</th>\n",
       "      <th>rain_3h</th>\n",
       "      <th>clouds_all</th>\n",
       "    </tr>\n",
       "    <tr>\n",
       "      <th>date_time</th>\n",
       "      <th></th>\n",
       "      <th></th>\n",
       "      <th></th>\n",
       "      <th></th>\n",
       "      <th></th>\n",
       "      <th></th>\n",
       "      <th></th>\n",
       "      <th></th>\n",
       "      <th></th>\n",
       "      <th></th>\n",
       "      <th></th>\n",
       "      <th></th>\n",
       "      <th></th>\n",
       "      <th></th>\n",
       "    </tr>\n",
       "  </thead>\n",
       "  <tbody>\n",
       "    <tr>\n",
       "      <th>2020-05-23 00:00:00</th>\n",
       "      <td>2020-05-23 00:00:00</td>\n",
       "      <td>0.0</td>\n",
       "      <td>0.0</td>\n",
       "      <td>86.43</td>\n",
       "      <td>87.44</td>\n",
       "      <td>84.2</td>\n",
       "      <td>89.01</td>\n",
       "      <td>1006</td>\n",
       "      <td>55</td>\n",
       "      <td>10.29</td>\n",
       "      <td>170</td>\n",
       "      <td>0.0</td>\n",
       "      <td>0.0</td>\n",
       "      <td>1</td>\n",
       "    </tr>\n",
       "    <tr>\n",
       "      <th>2020-05-23 01:00:00</th>\n",
       "      <td>2020-05-23 01:00:00</td>\n",
       "      <td>0.0</td>\n",
       "      <td>0.0</td>\n",
       "      <td>84.36</td>\n",
       "      <td>85.91</td>\n",
       "      <td>82.4</td>\n",
       "      <td>86.00</td>\n",
       "      <td>1006</td>\n",
       "      <td>61</td>\n",
       "      <td>10.29</td>\n",
       "      <td>160</td>\n",
       "      <td>0.0</td>\n",
       "      <td>0.0</td>\n",
       "      <td>1</td>\n",
       "    </tr>\n",
       "    <tr>\n",
       "      <th>2020-05-23 02:00:00</th>\n",
       "      <td>2020-05-23 02:00:00</td>\n",
       "      <td>0.0</td>\n",
       "      <td>0.0</td>\n",
       "      <td>82.49</td>\n",
       "      <td>86.86</td>\n",
       "      <td>81.0</td>\n",
       "      <td>84.48</td>\n",
       "      <td>1007</td>\n",
       "      <td>69</td>\n",
       "      <td>6.93</td>\n",
       "      <td>160</td>\n",
       "      <td>0.0</td>\n",
       "      <td>0.0</td>\n",
       "      <td>1</td>\n",
       "    </tr>\n",
       "  </tbody>\n",
       "</table>\n",
       "</div>"
      ],
      "text/plain": [
       "                              date_time  elevation  azimuth   temp  \\\n",
       "date_time                                                            \n",
       "2020-05-23 00:00:00 2020-05-23 00:00:00        0.0      0.0  86.43   \n",
       "2020-05-23 01:00:00 2020-05-23 01:00:00        0.0      0.0  84.36   \n",
       "2020-05-23 02:00:00 2020-05-23 02:00:00        0.0      0.0  82.49   \n",
       "\n",
       "                     feels_like  temp_min  temp_max  pressure  humidity  \\\n",
       "date_time                                                                 \n",
       "2020-05-23 00:00:00       87.44      84.2     89.01      1006        55   \n",
       "2020-05-23 01:00:00       85.91      82.4     86.00      1006        61   \n",
       "2020-05-23 02:00:00       86.86      81.0     84.48      1007        69   \n",
       "\n",
       "                     wind_speed  wind_deg  rain_1h  rain_3h  clouds_all  \n",
       "date_time                                                                \n",
       "2020-05-23 00:00:00       10.29       170      0.0      0.0           1  \n",
       "2020-05-23 01:00:00       10.29       160      0.0      0.0           1  \n",
       "2020-05-23 02:00:00        6.93       160      0.0      0.0           1  "
      ]
     },
     "execution_count": 65,
     "metadata": {},
     "output_type": "execute_result"
    }
   ],
   "source": [
    "df.head(3)"
   ]
  },
  {
   "cell_type": "code",
   "execution_count": 66,
   "metadata": {},
   "outputs": [
    {
     "data": {
      "text/plain": [
       "Index(['date_time', 'elevation', 'azimuth', 'temp', 'feels_like', 'temp_min',\n",
       "       'temp_max', 'pressure', 'humidity', 'wind_speed', 'wind_deg', 'rain_1h',\n",
       "       'rain_3h', 'clouds_all'],\n",
       "      dtype='object')"
      ]
     },
     "execution_count": 66,
     "metadata": {},
     "output_type": "execute_result"
    }
   ],
   "source": [
    "df.columns"
   ]
  },
  {
   "cell_type": "code",
   "execution_count": 67,
   "metadata": {},
   "outputs": [],
   "source": [
    "df_mean = df[['elevation', 'azimuth', 'temp', 'feels_like', 'temp_min', \\\n",
    "       'temp_max', 'pressure', 'humidity', 'wind_speed', 'wind_deg', 'rain_1h', \\\n",
    "       'rain_3h', 'clouds_all']]\n",
    "df_sum = df[['rain_1h']]\n",
    "df_max = df[['elevation', 'azimuth', 'feels_like', 'temp_max', 'pressure', 'humidity', \\\n",
    "             'wind_speed', 'clouds_all']]\n",
    "df_min = df[['feels_like', 'temp_min','pressure', 'humidity', 'wind_speed', 'clouds_all']]"
   ]
  },
  {
   "cell_type": "code",
   "execution_count": 68,
   "metadata": {},
   "outputs": [],
   "source": [
    "df_mean = df_mean.resample('D').mean()"
   ]
  },
  {
   "cell_type": "code",
   "execution_count": 69,
   "metadata": {},
   "outputs": [
    {
     "data": {
      "text/html": [
       "<div>\n",
       "<style scoped>\n",
       "    .dataframe tbody tr th:only-of-type {\n",
       "        vertical-align: middle;\n",
       "    }\n",
       "\n",
       "    .dataframe tbody tr th {\n",
       "        vertical-align: top;\n",
       "    }\n",
       "\n",
       "    .dataframe thead th {\n",
       "        text-align: right;\n",
       "    }\n",
       "</style>\n",
       "<table border=\"1\" class=\"dataframe\">\n",
       "  <thead>\n",
       "    <tr style=\"text-align: right;\">\n",
       "      <th></th>\n",
       "      <th>elevation</th>\n",
       "      <th>azimuth</th>\n",
       "      <th>temp</th>\n",
       "      <th>feels_like</th>\n",
       "      <th>temp_min</th>\n",
       "      <th>temp_max</th>\n",
       "      <th>pressure</th>\n",
       "      <th>humidity</th>\n",
       "      <th>wind_speed</th>\n",
       "      <th>wind_deg</th>\n",
       "      <th>rain_1h</th>\n",
       "      <th>rain_3h</th>\n",
       "      <th>clouds_all</th>\n",
       "    </tr>\n",
       "    <tr>\n",
       "      <th>date_time</th>\n",
       "      <th></th>\n",
       "      <th></th>\n",
       "      <th></th>\n",
       "      <th></th>\n",
       "      <th></th>\n",
       "      <th></th>\n",
       "      <th></th>\n",
       "      <th></th>\n",
       "      <th></th>\n",
       "      <th></th>\n",
       "      <th></th>\n",
       "      <th></th>\n",
       "      <th></th>\n",
       "    </tr>\n",
       "  </thead>\n",
       "  <tbody>\n",
       "    <tr>\n",
       "      <th>2020-05-23</th>\n",
       "      <td>23.436000</td>\n",
       "      <td>101.120400</td>\n",
       "      <td>82.108400</td>\n",
       "      <td>84.492800</td>\n",
       "      <td>80.435200</td>\n",
       "      <td>84.042400</td>\n",
       "      <td>1010.120000</td>\n",
       "      <td>68.400000</td>\n",
       "      <td>9.477600</td>\n",
       "      <td>134.000000</td>\n",
       "      <td>0.000000</td>\n",
       "      <td>0.0</td>\n",
       "      <td>57.120000</td>\n",
       "    </tr>\n",
       "    <tr>\n",
       "      <th>2020-05-24</th>\n",
       "      <td>24.466250</td>\n",
       "      <td>105.317917</td>\n",
       "      <td>81.187917</td>\n",
       "      <td>82.757917</td>\n",
       "      <td>79.575000</td>\n",
       "      <td>83.199167</td>\n",
       "      <td>1012.541667</td>\n",
       "      <td>68.833333</td>\n",
       "      <td>10.327083</td>\n",
       "      <td>135.000000</td>\n",
       "      <td>0.000000</td>\n",
       "      <td>0.0</td>\n",
       "      <td>68.333333</td>\n",
       "    </tr>\n",
       "    <tr>\n",
       "      <th>2020-05-25</th>\n",
       "      <td>24.517917</td>\n",
       "      <td>105.300833</td>\n",
       "      <td>79.482500</td>\n",
       "      <td>81.090833</td>\n",
       "      <td>77.529167</td>\n",
       "      <td>81.693333</td>\n",
       "      <td>1013.250000</td>\n",
       "      <td>68.291667</td>\n",
       "      <td>8.648750</td>\n",
       "      <td>114.166667</td>\n",
       "      <td>0.034167</td>\n",
       "      <td>0.0</td>\n",
       "      <td>61.625000</td>\n",
       "    </tr>\n",
       "  </tbody>\n",
       "</table>\n",
       "</div>"
      ],
      "text/plain": [
       "            elevation     azimuth       temp  feels_like   temp_min  \\\n",
       "date_time                                                             \n",
       "2020-05-23  23.436000  101.120400  82.108400   84.492800  80.435200   \n",
       "2020-05-24  24.466250  105.317917  81.187917   82.757917  79.575000   \n",
       "2020-05-25  24.517917  105.300833  79.482500   81.090833  77.529167   \n",
       "\n",
       "             temp_max     pressure   humidity  wind_speed    wind_deg  \\\n",
       "date_time                                                               \n",
       "2020-05-23  84.042400  1010.120000  68.400000    9.477600  134.000000   \n",
       "2020-05-24  83.199167  1012.541667  68.833333   10.327083  135.000000   \n",
       "2020-05-25  81.693333  1013.250000  68.291667    8.648750  114.166667   \n",
       "\n",
       "             rain_1h  rain_3h  clouds_all  \n",
       "date_time                                  \n",
       "2020-05-23  0.000000      0.0   57.120000  \n",
       "2020-05-24  0.000000      0.0   68.333333  \n",
       "2020-05-25  0.034167      0.0   61.625000  "
      ]
     },
     "execution_count": 69,
     "metadata": {},
     "output_type": "execute_result"
    }
   ],
   "source": [
    "df_mean.head(3)"
   ]
  },
  {
   "cell_type": "code",
   "execution_count": 70,
   "metadata": {},
   "outputs": [],
   "source": [
    "df_mean = df_mean.rename(columns={'elevation': 'elevation_mean', 'azimuth': 'azimuth_mean', \\\n",
    "                        'temp': 'temp_mean', 'feels_like': 'feels_like_mean', \n",
    "                        'temp_min': 'temp_min_mean', 'temp_max': 'temp_max_mean', \\\n",
    "                        'pressure': 'pressure_mean', 'humidity': 'humidity_mean', \\\n",
    "                        'wind_speed': 'wind_speed_mean', 'wind_deg':'wind_deg_mean', \\\n",
    "                        'rain_1h': 'rain_1h_mean', 'rain_3h': 'rain_3h_mean', \\\n",
    "                        'clouds_all': 'clouds_all_mean'})\n"
   ]
  },
  {
   "cell_type": "code",
   "execution_count": 71,
   "metadata": {},
   "outputs": [],
   "source": [
    "df_sum = df_sum.resample('D').sum()"
   ]
  },
  {
   "cell_type": "code",
   "execution_count": 72,
   "metadata": {},
   "outputs": [],
   "source": [
    "df_sum = df_sum.rename(columns={'rain_1h': 'rain_1h_sum'})"
   ]
  },
  {
   "cell_type": "code",
   "execution_count": 73,
   "metadata": {},
   "outputs": [],
   "source": [
    "df_max = df_max.resample('D').max()\n",
    "\n",
    "df_max = df_max.rename(columns={'elevation': 'elevation_max', 'azimuth': 'azimuth_max', \\\n",
    "                       'feels_like': 'feels_like_max', 'temp_max': 'temp_max_max', \\\n",
    "                       'pressure': 'pressure_max', 'humidity': 'humidity_max', \\\n",
    "                       'wind_speed': 'wind_speed_max', 'clouds_all': 'clouds_all_max'})"
   ]
  },
  {
   "cell_type": "code",
   "execution_count": 74,
   "metadata": {},
   "outputs": [],
   "source": [
    "df_min = df_min.resample('D').min()\n",
    "\n",
    "df_min = df_min.rename(columns={'feels_like': 'feels_like_min', 'temp_min': 'temp_min_min',\\\n",
    "                       'pressure': 'pressure_min', 'humidity': 'humidity_min', \\\n",
    "                       'wind_speed': 'wind_speed_min', 'clouds_all': 'clouds_all_min'})"
   ]
  },
  {
   "cell_type": "code",
   "execution_count": 75,
   "metadata": {},
   "outputs": [],
   "source": [
    "df_pred = pd.concat([df_mean, df_sum, df_min, df_max], axis=1)\n"
   ]
  },
  {
   "cell_type": "code",
   "execution_count": 76,
   "metadata": {},
   "outputs": [
    {
     "data": {
      "text/html": [
       "<div>\n",
       "<style scoped>\n",
       "    .dataframe tbody tr th:only-of-type {\n",
       "        vertical-align: middle;\n",
       "    }\n",
       "\n",
       "    .dataframe tbody tr th {\n",
       "        vertical-align: top;\n",
       "    }\n",
       "\n",
       "    .dataframe thead th {\n",
       "        text-align: right;\n",
       "    }\n",
       "</style>\n",
       "<table border=\"1\" class=\"dataframe\">\n",
       "  <thead>\n",
       "    <tr style=\"text-align: right;\">\n",
       "      <th></th>\n",
       "      <th>elevation_mean</th>\n",
       "      <th>azimuth_mean</th>\n",
       "      <th>temp_mean</th>\n",
       "      <th>feels_like_mean</th>\n",
       "      <th>temp_min_mean</th>\n",
       "      <th>temp_max_mean</th>\n",
       "      <th>pressure_mean</th>\n",
       "      <th>humidity_mean</th>\n",
       "      <th>wind_speed_mean</th>\n",
       "      <th>wind_deg_mean</th>\n",
       "      <th>rain_1h_mean</th>\n",
       "      <th>rain_3h_mean</th>\n",
       "      <th>clouds_all_mean</th>\n",
       "      <th>rain_1h_sum</th>\n",
       "      <th>feels_like_min</th>\n",
       "      <th>temp_min_min</th>\n",
       "      <th>pressure_min</th>\n",
       "      <th>humidity_min</th>\n",
       "      <th>wind_speed_min</th>\n",
       "      <th>clouds_all_min</th>\n",
       "      <th>elevation_max</th>\n",
       "      <th>azimuth_max</th>\n",
       "      <th>feels_like_max</th>\n",
       "      <th>temp_max_max</th>\n",
       "      <th>pressure_max</th>\n",
       "      <th>humidity_max</th>\n",
       "      <th>wind_speed_max</th>\n",
       "      <th>clouds_all_max</th>\n",
       "    </tr>\n",
       "    <tr>\n",
       "      <th>date_time</th>\n",
       "      <th></th>\n",
       "      <th></th>\n",
       "      <th></th>\n",
       "      <th></th>\n",
       "      <th></th>\n",
       "      <th></th>\n",
       "      <th></th>\n",
       "      <th></th>\n",
       "      <th></th>\n",
       "      <th></th>\n",
       "      <th></th>\n",
       "      <th></th>\n",
       "      <th></th>\n",
       "      <th></th>\n",
       "      <th></th>\n",
       "      <th></th>\n",
       "      <th></th>\n",
       "      <th></th>\n",
       "      <th></th>\n",
       "      <th></th>\n",
       "      <th></th>\n",
       "      <th></th>\n",
       "      <th></th>\n",
       "      <th></th>\n",
       "      <th></th>\n",
       "      <th></th>\n",
       "      <th></th>\n",
       "      <th></th>\n",
       "    </tr>\n",
       "  </thead>\n",
       "  <tbody>\n",
       "    <tr>\n",
       "      <th>2020-05-23</th>\n",
       "      <td>23.436000</td>\n",
       "      <td>101.120400</td>\n",
       "      <td>82.108400</td>\n",
       "      <td>84.492800</td>\n",
       "      <td>80.435200</td>\n",
       "      <td>84.042400</td>\n",
       "      <td>1010.120000</td>\n",
       "      <td>68.400000</td>\n",
       "      <td>9.477600</td>\n",
       "      <td>134.000000</td>\n",
       "      <td>0.000000</td>\n",
       "      <td>0.0</td>\n",
       "      <td>57.120000</td>\n",
       "      <td>0.00</td>\n",
       "      <td>78.42</td>\n",
       "      <td>73.99</td>\n",
       "      <td>1006</td>\n",
       "      <td>50</td>\n",
       "      <td>5.82</td>\n",
       "      <td>1</td>\n",
       "      <td>78.47</td>\n",
       "      <td>291.91</td>\n",
       "      <td>92.05</td>\n",
       "      <td>91.99</td>\n",
       "      <td>1013</td>\n",
       "      <td>87</td>\n",
       "      <td>14.99</td>\n",
       "      <td>90</td>\n",
       "    </tr>\n",
       "    <tr>\n",
       "      <th>2020-05-24</th>\n",
       "      <td>24.466250</td>\n",
       "      <td>105.317917</td>\n",
       "      <td>81.187917</td>\n",
       "      <td>82.757917</td>\n",
       "      <td>79.575000</td>\n",
       "      <td>83.199167</td>\n",
       "      <td>1012.541667</td>\n",
       "      <td>68.833333</td>\n",
       "      <td>10.327083</td>\n",
       "      <td>135.000000</td>\n",
       "      <td>0.000000</td>\n",
       "      <td>0.0</td>\n",
       "      <td>68.333333</td>\n",
       "      <td>0.00</td>\n",
       "      <td>77.09</td>\n",
       "      <td>74.66</td>\n",
       "      <td>1010</td>\n",
       "      <td>48</td>\n",
       "      <td>4.70</td>\n",
       "      <td>20</td>\n",
       "      <td>78.62</td>\n",
       "      <td>292.06</td>\n",
       "      <td>88.77</td>\n",
       "      <td>90.31</td>\n",
       "      <td>1015</td>\n",
       "      <td>89</td>\n",
       "      <td>17.22</td>\n",
       "      <td>90</td>\n",
       "    </tr>\n",
       "    <tr>\n",
       "      <th>2020-05-25</th>\n",
       "      <td>24.517917</td>\n",
       "      <td>105.300833</td>\n",
       "      <td>79.482500</td>\n",
       "      <td>81.090833</td>\n",
       "      <td>77.529167</td>\n",
       "      <td>81.693333</td>\n",
       "      <td>1013.250000</td>\n",
       "      <td>68.291667</td>\n",
       "      <td>8.648750</td>\n",
       "      <td>114.166667</td>\n",
       "      <td>0.034167</td>\n",
       "      <td>0.0</td>\n",
       "      <td>61.625000</td>\n",
       "      <td>0.82</td>\n",
       "      <td>73.29</td>\n",
       "      <td>72.50</td>\n",
       "      <td>1011</td>\n",
       "      <td>51</td>\n",
       "      <td>4.70</td>\n",
       "      <td>1</td>\n",
       "      <td>78.75</td>\n",
       "      <td>292.19</td>\n",
       "      <td>90.70</td>\n",
       "      <td>90.69</td>\n",
       "      <td>1015</td>\n",
       "      <td>84</td>\n",
       "      <td>13.87</td>\n",
       "      <td>90</td>\n",
       "    </tr>\n",
       "  </tbody>\n",
       "</table>\n",
       "</div>"
      ],
      "text/plain": [
       "            elevation_mean  azimuth_mean  temp_mean  feels_like_mean  \\\n",
       "date_time                                                              \n",
       "2020-05-23       23.436000    101.120400  82.108400        84.492800   \n",
       "2020-05-24       24.466250    105.317917  81.187917        82.757917   \n",
       "2020-05-25       24.517917    105.300833  79.482500        81.090833   \n",
       "\n",
       "            temp_min_mean  temp_max_mean  pressure_mean  humidity_mean  \\\n",
       "date_time                                                                \n",
       "2020-05-23      80.435200      84.042400    1010.120000      68.400000   \n",
       "2020-05-24      79.575000      83.199167    1012.541667      68.833333   \n",
       "2020-05-25      77.529167      81.693333    1013.250000      68.291667   \n",
       "\n",
       "            wind_speed_mean  wind_deg_mean  rain_1h_mean  rain_3h_mean  \\\n",
       "date_time                                                                \n",
       "2020-05-23         9.477600     134.000000      0.000000           0.0   \n",
       "2020-05-24        10.327083     135.000000      0.000000           0.0   \n",
       "2020-05-25         8.648750     114.166667      0.034167           0.0   \n",
       "\n",
       "            clouds_all_mean  rain_1h_sum  feels_like_min  temp_min_min  \\\n",
       "date_time                                                                \n",
       "2020-05-23        57.120000         0.00           78.42         73.99   \n",
       "2020-05-24        68.333333         0.00           77.09         74.66   \n",
       "2020-05-25        61.625000         0.82           73.29         72.50   \n",
       "\n",
       "            pressure_min  humidity_min  wind_speed_min  clouds_all_min  \\\n",
       "date_time                                                                \n",
       "2020-05-23          1006            50            5.82               1   \n",
       "2020-05-24          1010            48            4.70              20   \n",
       "2020-05-25          1011            51            4.70               1   \n",
       "\n",
       "            elevation_max  azimuth_max  feels_like_max  temp_max_max  \\\n",
       "date_time                                                              \n",
       "2020-05-23          78.47       291.91           92.05         91.99   \n",
       "2020-05-24          78.62       292.06           88.77         90.31   \n",
       "2020-05-25          78.75       292.19           90.70         90.69   \n",
       "\n",
       "            pressure_max  humidity_max  wind_speed_max  clouds_all_max  \n",
       "date_time                                                               \n",
       "2020-05-23          1013            87           14.99              90  \n",
       "2020-05-24          1015            89           17.22              90  \n",
       "2020-05-25          1015            84           13.87              90  "
      ]
     },
     "execution_count": 76,
     "metadata": {},
     "output_type": "execute_result"
    }
   ],
   "source": [
    "df_pred.head(3)"
   ]
  },
  {
   "cell_type": "code",
   "execution_count": 77,
   "metadata": {},
   "outputs": [],
   "source": [
    "X_pred = df_pred[['elevation_mean', 'azimuth_mean', 'temp_mean', 'feels_like_mean',\n",
    "        'pressure_mean', 'humidity_mean','wind_speed_mean', 'wind_deg_mean',\n",
    "        'clouds_all_mean', 'rain_1h_sum','temp_min_min', 'elevation_max', 'temp_max_max',\n",
    "        ]]"
   ]
  },
  {
   "cell_type": "markdown",
   "metadata": {},
   "source": [
    "# Production Prediction"
   ]
  },
  {
   "cell_type": "code",
   "execution_count": 78,
   "metadata": {},
   "outputs": [],
   "source": [
    "prod_pred = linreg_pro.predict(X_pred)"
   ]
  },
  {
   "cell_type": "code",
   "execution_count": 79,
   "metadata": {},
   "outputs": [
    {
     "data": {
      "text/plain": [
       "[<matplotlib.lines.Line2D at 0x27866528bc8>]"
      ]
     },
     "execution_count": 79,
     "metadata": {},
     "output_type": "execute_result"
    },
    {
     "data": {
      "image/png": "[encoded data removed]",
      "text/plain": [
       "<Figure size 432x288 with 1 Axes>"
      ]
     },
     "metadata": {
      "needs_background": "light"
     },
     "output_type": "display_data"
    }
   ],
   "source": [
    "plt.plot(prod_pred)"
   ]
  },
  {
   "cell_type": "markdown",
   "metadata": {},
   "source": [
    "# Consumption Prediction"
   ]
  },
  {
   "cell_type": "code",
   "execution_count": 80,
   "metadata": {},
   "outputs": [],
   "source": [
    "cons_pred = linreg_con.predict(X_pred)"
   ]
  },
  {
   "cell_type": "code",
   "execution_count": 81,
   "metadata": {},
   "outputs": [
    {
     "data": {
      "text/plain": [
       "[<matplotlib.lines.Line2D at 0x2786657e648>]"
      ]
     },
     "execution_count": 81,
     "metadata": {},
     "output_type": "execute_result"
    },
    {
     "data": {
      "image/png": "[encoded data removed]",
      "text/plain": [
       "<Figure size 432x288 with 1 Axes>"
      ]
     },
     "metadata": {
      "needs_background": "light"
     },
     "output_type": "display_data"
    }
   ],
   "source": [
    "plt.plot(cons_pred)"
   ]
  },
  {
   "cell_type": "markdown",
   "metadata": {},
   "source": [
    "# Prediction to DataFrame"
   ]
  },
  {
   "cell_type": "code",
   "execution_count": 82,
   "metadata": {},
   "outputs": [],
   "source": [
    "df_prod_pred = pd.DataFrame(prod_pred, columns=['production_prediction'])"
   ]
  },
  {
   "cell_type": "code",
   "execution_count": 83,
   "metadata": {},
   "outputs": [
    {
     "data": {
      "text/plain": [
       "(209, 1)"
      ]
     },
     "execution_count": 83,
     "metadata": {},
     "output_type": "execute_result"
    }
   ],
   "source": [
    "df_prod_pred.shape"
   ]
  },
  {
   "cell_type": "code",
   "execution_count": 84,
   "metadata": {},
   "outputs": [],
   "source": [
    "df_cons_pred = pd.DataFrame(cons_pred, columns=['consumption_prediction'])"
   ]
  },
  {
   "cell_type": "code",
   "execution_count": 85,
   "metadata": {},
   "outputs": [],
   "source": [
    "df_datetime = df[['date_time']].resample('D')"
   ]
  },
  {
   "cell_type": "code",
   "execution_count": 86,
   "metadata": {},
   "outputs": [],
   "source": [
    "df_datetime = pd.DataFrame(df_datetime)"
   ]
  },
  {
   "cell_type": "code",
   "execution_count": 87,
   "metadata": {},
   "outputs": [],
   "source": [
    "df_pred_final = pd.concat([df_datetime, df_prod_pred, df_cons_pred], axis=1)"
   ]
  },
  {
   "cell_type": "code",
   "execution_count": 88,
   "metadata": {},
   "outputs": [],
   "source": [
    "df_pred_final = df_pred_final.rename(columns={0: 'date_time'})"
   ]
  },
  {
   "cell_type": "code",
   "execution_count": 89,
   "metadata": {},
   "outputs": [],
   "source": [
    "df_pred_final = df_pred_final.set_index('date_time')"
   ]
  },
  {
   "cell_type": "code",
   "execution_count": null,
   "metadata": {},
   "outputs": [],
   "source": []
  },
  {
   "cell_type": "code",
   "execution_count": 96,
   "metadata": {},
   "outputs": [
    {
     "data": {
      "image/png": "[encoded data removed]",
      "text/plain": [
       "<Figure size 864x720 with 1 Axes>"
      ]
     },
     "metadata": {
      "needs_background": "light"
     },
     "output_type": "display_data"
    }
   ],
   "source": [
    "plt.figure(figsize=(12, 10))\n",
    "\n",
    "prod, = plt.plot(df_pred_final['production_prediction'], label='Production')\n",
    "# cons, = plt.plot(df_pred_final['consumption_prediction'], label='Consumption', color='red')\n",
    "\n",
    "plt.title('Energy Production Prediction for Rest of 2020', size=30)\n",
    "# plt.legend(handles=[prod, cons])\n",
    "plt.xlabel('Date', size=15)\n",
    "plt.ylabel('Energy (Wh)', size=15);"
   ]
  },
  {
   "cell_type": "code",
   "execution_count": 99,
   "metadata": {},
   "outputs": [
    {
     "data": {
      "image/png": "[encoded data removed]",
      "text/plain": [
       "<Figure size 864x720 with 1 Axes>"
      ]
     },
     "metadata": {
      "needs_background": "light"
     },
     "output_type": "display_data"
    }
   ],
   "source": [
    "plt.figure(figsize=(12, 10))\n",
    "\n",
    "# prod, = plt.plot(df_pred_final['production_prediction'], label='Production')\n",
    "cons, = plt.plot(df_pred_final['consumption_prediction'], label='Consumption', color='red')\n",
    "\n",
    "plt.title('Energy Consumption Prediction for Rest of 2020', size=30)\n",
    "# plt.legend(handles=[prod, cons])\n",
    "plt.xlabel('Date', size=15)\n",
    "plt.ylabel('Energy (Wh)', size=15);"
   ]
  },
  {
   "cell_type": "code",
   "execution_count": null,
   "metadata": {},
   "outputs": [],
   "source": []
  }
 ],
 "metadata": {
  "kernelspec": {
   "display_name": "Python 3",
   "language": "python",
   "name": "python3"
  },
  "language_info": {
   "codemirror_mode": {
    "name": "ipython",
    "version": 3
   },
   "file_extension": ".py",
   "mimetype": "text/x-python",
   "name": "python",
   "nbconvert_exporter": "python",
   "pygments_lexer": "ipython3",
   "version": "3.7.6"
  }
 },
 "nbformat": 4,
 "nbformat_minor": 4
}
